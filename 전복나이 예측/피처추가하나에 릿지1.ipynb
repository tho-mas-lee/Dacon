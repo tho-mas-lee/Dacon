{
 "cells": [
  {
   "cell_type": "code",
   "execution_count": 137,
   "metadata": {},
   "outputs": [],
   "source": [
    "#데이터 준비하기 \n",
    "import pandas as pd\n",
    "\n",
    "train_data = pd.read_csv(\"E:\\데이콘\\\\전복나이 예측\\\\데이터\\\\train.csv\")\n",
    "\n",
    "ques_data = pd.read_csv(\"E:\\데이콘\\\\전복나이 예측\\\\데이터\\\\test.csv\")"
   ]
  },
  {
   "cell_type": "code",
   "execution_count": 138,
   "metadata": {},
   "outputs": [
    {
     "name": "stdout",
     "output_type": "stream",
     "text": [
      "asd\n"
     ]
    }
   ],
   "source": [
    "print(\"asd\")"
   ]
  },
  {
   "cell_type": "markdown",
   "metadata": {},
   "source": [
    "Viscra 내장\n",
    "Shucked Weight  the weight without the shell\n",
    "Shell Weight 껍질 무게\n",
    "\n",
    "\n",
    "제거할 번호 465, 762, 47, 382, 435, 1078"
   ]
  },
  {
   "cell_type": "code",
   "execution_count": 139,
   "metadata": {},
   "outputs": [
    {
     "data": {
      "text/html": [
       "<div>\n",
       "<style scoped>\n",
       "    .dataframe tbody tr th:only-of-type {\n",
       "        vertical-align: middle;\n",
       "    }\n",
       "\n",
       "    .dataframe tbody tr th {\n",
       "        vertical-align: top;\n",
       "    }\n",
       "\n",
       "    .dataframe thead th {\n",
       "        text-align: right;\n",
       "    }\n",
       "</style>\n",
       "<table border=\"1\" class=\"dataframe\">\n",
       "  <thead>\n",
       "    <tr style=\"text-align: right;\">\n",
       "      <th></th>\n",
       "      <th>id</th>\n",
       "      <th>Gender</th>\n",
       "      <th>Lenght</th>\n",
       "      <th>Diameter</th>\n",
       "      <th>Height</th>\n",
       "      <th>Whole Weight</th>\n",
       "      <th>Shucked Weight</th>\n",
       "      <th>Viscra Weight</th>\n",
       "      <th>Shell Weight</th>\n",
       "      <th>Target</th>\n",
       "    </tr>\n",
       "  </thead>\n",
       "  <tbody>\n",
       "    <tr>\n",
       "      <th>465</th>\n",
       "      <td>466</td>\n",
       "      <td>M</td>\n",
       "      <td>0.415</td>\n",
       "      <td>0.315</td>\n",
       "      <td>0.125</td>\n",
       "      <td>0.388</td>\n",
       "      <td>0.068</td>\n",
       "      <td>0.09</td>\n",
       "      <td>0.125</td>\n",
       "      <td>12</td>\n",
       "    </tr>\n",
       "  </tbody>\n",
       "</table>\n",
       "</div>"
      ],
      "text/plain": [
       "      id Gender  Lenght  Diameter  Height  Whole Weight  Shucked Weight  \\\n",
       "465  466      M   0.415     0.315   0.125         0.388           0.068   \n",
       "\n",
       "     Viscra Weight  Shell Weight  Target  \n",
       "465           0.09         0.125      12  "
      ]
     },
     "execution_count": 139,
     "metadata": {},
     "output_type": "execute_result"
    }
   ],
   "source": [
    "train_data[train_data['Viscra Weight']>train_data['Shucked Weight']]"
   ]
  },
  {
   "cell_type": "code",
   "execution_count": 140,
   "metadata": {},
   "outputs": [
    {
     "data": {
      "text/html": [
       "<div>\n",
       "<style scoped>\n",
       "    .dataframe tbody tr th:only-of-type {\n",
       "        vertical-align: middle;\n",
       "    }\n",
       "\n",
       "    .dataframe tbody tr th {\n",
       "        vertical-align: top;\n",
       "    }\n",
       "\n",
       "    .dataframe thead th {\n",
       "        text-align: right;\n",
       "    }\n",
       "</style>\n",
       "<table border=\"1\" class=\"dataframe\">\n",
       "  <thead>\n",
       "    <tr style=\"text-align: right;\">\n",
       "      <th></th>\n",
       "      <th>id</th>\n",
       "      <th>Gender</th>\n",
       "      <th>Lenght</th>\n",
       "      <th>Diameter</th>\n",
       "      <th>Height</th>\n",
       "      <th>Whole Weight</th>\n",
       "      <th>Shucked Weight</th>\n",
       "      <th>Viscra Weight</th>\n",
       "      <th>Shell Weight</th>\n",
       "      <th>Target</th>\n",
       "    </tr>\n",
       "  </thead>\n",
       "  <tbody>\n",
       "    <tr>\n",
       "      <th>47</th>\n",
       "      <td>48</td>\n",
       "      <td>I</td>\n",
       "      <td>0.380</td>\n",
       "      <td>0.275</td>\n",
       "      <td>0.095</td>\n",
       "      <td>0.1375</td>\n",
       "      <td>0.0860</td>\n",
       "      <td>0.0585</td>\n",
       "      <td>0.0605</td>\n",
       "      <td>7</td>\n",
       "    </tr>\n",
       "    <tr>\n",
       "      <th>382</th>\n",
       "      <td>383</td>\n",
       "      <td>I</td>\n",
       "      <td>0.455</td>\n",
       "      <td>0.330</td>\n",
       "      <td>0.100</td>\n",
       "      <td>0.3720</td>\n",
       "      <td>0.3580</td>\n",
       "      <td>0.0775</td>\n",
       "      <td>0.1100</td>\n",
       "      <td>8</td>\n",
       "    </tr>\n",
       "    <tr>\n",
       "      <th>435</th>\n",
       "      <td>436</td>\n",
       "      <td>I</td>\n",
       "      <td>0.475</td>\n",
       "      <td>0.365</td>\n",
       "      <td>0.100</td>\n",
       "      <td>0.1315</td>\n",
       "      <td>0.2025</td>\n",
       "      <td>0.0875</td>\n",
       "      <td>0.1230</td>\n",
       "      <td>7</td>\n",
       "    </tr>\n",
       "    <tr>\n",
       "      <th>1078</th>\n",
       "      <td>1079</td>\n",
       "      <td>I</td>\n",
       "      <td>0.275</td>\n",
       "      <td>0.205</td>\n",
       "      <td>0.070</td>\n",
       "      <td>0.1055</td>\n",
       "      <td>0.4950</td>\n",
       "      <td>0.0190</td>\n",
       "      <td>0.0315</td>\n",
       "      <td>5</td>\n",
       "    </tr>\n",
       "  </tbody>\n",
       "</table>\n",
       "</div>"
      ],
      "text/plain": [
       "        id Gender  Lenght  Diameter  Height  Whole Weight  Shucked Weight  \\\n",
       "47      48      I   0.380     0.275   0.095        0.1375          0.0860   \n",
       "382    383      I   0.455     0.330   0.100        0.3720          0.3580   \n",
       "435    436      I   0.475     0.365   0.100        0.1315          0.2025   \n",
       "1078  1079      I   0.275     0.205   0.070        0.1055          0.4950   \n",
       "\n",
       "      Viscra Weight  Shell Weight  Target  \n",
       "47           0.0585        0.0605       7  \n",
       "382          0.0775        0.1100       8  \n",
       "435          0.0875        0.1230       7  \n",
       "1078         0.0190        0.0315       5  "
      ]
     },
     "execution_count": 140,
     "metadata": {},
     "output_type": "execute_result"
    }
   ],
   "source": [
    "train_data[(train_data['Viscra Weight']+train_data['Shucked Weight'])>train_data['Whole Weight']]"
   ]
  },
  {
   "cell_type": "code",
   "execution_count": 141,
   "metadata": {},
   "outputs": [
    {
     "data": {
      "text/html": [
       "<div>\n",
       "<style scoped>\n",
       "    .dataframe tbody tr th:only-of-type {\n",
       "        vertical-align: middle;\n",
       "    }\n",
       "\n",
       "    .dataframe tbody tr th {\n",
       "        vertical-align: top;\n",
       "    }\n",
       "\n",
       "    .dataframe thead th {\n",
       "        text-align: right;\n",
       "    }\n",
       "</style>\n",
       "<table border=\"1\" class=\"dataframe\">\n",
       "  <thead>\n",
       "    <tr style=\"text-align: right;\">\n",
       "      <th></th>\n",
       "      <th>id</th>\n",
       "      <th>Gender</th>\n",
       "      <th>Lenght</th>\n",
       "      <th>Diameter</th>\n",
       "      <th>Height</th>\n",
       "      <th>Whole Weight</th>\n",
       "      <th>Shucked Weight</th>\n",
       "      <th>Viscra Weight</th>\n",
       "      <th>Shell Weight</th>\n",
       "      <th>Target</th>\n",
       "    </tr>\n",
       "  </thead>\n",
       "  <tbody>\n",
       "    <tr>\n",
       "      <th>435</th>\n",
       "      <td>436</td>\n",
       "      <td>I</td>\n",
       "      <td>0.475</td>\n",
       "      <td>0.365</td>\n",
       "      <td>0.10</td>\n",
       "      <td>0.1315</td>\n",
       "      <td>0.2025</td>\n",
       "      <td>0.0875</td>\n",
       "      <td>0.1230</td>\n",
       "      <td>7</td>\n",
       "    </tr>\n",
       "    <tr>\n",
       "      <th>1078</th>\n",
       "      <td>1079</td>\n",
       "      <td>I</td>\n",
       "      <td>0.275</td>\n",
       "      <td>0.205</td>\n",
       "      <td>0.07</td>\n",
       "      <td>0.1055</td>\n",
       "      <td>0.4950</td>\n",
       "      <td>0.0190</td>\n",
       "      <td>0.0315</td>\n",
       "      <td>5</td>\n",
       "    </tr>\n",
       "  </tbody>\n",
       "</table>\n",
       "</div>"
      ],
      "text/plain": [
       "        id Gender  Lenght  Diameter  Height  Whole Weight  Shucked Weight  \\\n",
       "435    436      I   0.475     0.365    0.10        0.1315          0.2025   \n",
       "1078  1079      I   0.275     0.205    0.07        0.1055          0.4950   \n",
       "\n",
       "      Viscra Weight  Shell Weight  Target  \n",
       "435          0.0875        0.1230       7  \n",
       "1078         0.0190        0.0315       5  "
      ]
     },
     "execution_count": 141,
     "metadata": {},
     "output_type": "execute_result"
    }
   ],
   "source": [
    "train_data[train_data['Shucked Weight']>train_data['Whole Weight']]"
   ]
  },
  {
   "cell_type": "code",
   "execution_count": 142,
   "metadata": {},
   "outputs": [
    {
     "name": "stdout",
     "output_type": "stream",
     "text": [
      "(1253, 10)\n"
     ]
    }
   ],
   "source": [
    "print(train_data.shape)\n",
    "train_data.drop(index=762,axis =0,inplace= True)\n",
    "train_data.drop(index=465,axis =0,inplace= True)\n",
    "train_data.drop(index=47,axis =0,inplace= True)\n",
    "train_data.drop(index=382,axis =0,inplace= True)\n",
    "train_data.drop(index=435,axis =0,inplace= True)\n",
    "train_data.drop(index=1078,axis =0,inplace= True)"
   ]
  },
  {
   "cell_type": "code",
   "execution_count": 143,
   "metadata": {},
   "outputs": [
    {
     "name": "stdout",
     "output_type": "stream",
     "text": [
      "(1247, 10)\n"
     ]
    }
   ],
   "source": [
    "print(train_data.shape)"
   ]
  },
  {
   "cell_type": "code",
   "execution_count": 144,
   "metadata": {},
   "outputs": [],
   "source": [
    "#water = 전체무게 -(껍질무게+껍질을 제외한 무게) 보다 ratio=껍질을 제외한 무게/전체 무게 \n",
    "water_train = train_data['Whole Weight'] -train_data['Shucked Weight']\n",
    "water_ques = ques_data['Whole Weight'] -ques_data['Shucked Weight']"
   ]
  },
  {
   "cell_type": "code",
   "execution_count": 145,
   "metadata": {},
   "outputs": [],
   "source": [
    "#train_data['Water'] = water_train\n",
    "#ques_data['Water'] = water_ques"
   ]
  },
  {
   "cell_type": "code",
   "execution_count": 146,
   "metadata": {},
   "outputs": [
    {
     "name": "stdout",
     "output_type": "stream",
     "text": [
      "   id Gender  Lenght  Diameter  Height  Whole Weight  Shucked Weight  \\\n",
      "0   1      M   0.605     0.470   0.115        1.1140          0.3925   \n",
      "1   2      I   0.430     0.315   0.095        0.3780          0.1750   \n",
      "2   3      I   0.580     0.490   0.195        1.3165          0.5305   \n",
      "3   4      M   0.535     0.405   0.175        1.2705          0.5480   \n",
      "4   5      I   0.310     0.235   0.090        0.1270          0.0480   \n",
      "\n",
      "   Viscra Weight  Shell Weight  Target     Ratio  \n",
      "0         0.2910        0.3100      15  0.352334  \n",
      "1         0.0800        0.1045       8  0.462963  \n",
      "2         0.2540        0.4100      18  0.402962  \n",
      "3         0.3265        0.3370      13  0.431326  \n",
      "4         0.0310        0.0400       6  0.377953  \n"
     ]
    },
    {
     "data": {
      "text/html": [
       "<div>\n",
       "<style scoped>\n",
       "    .dataframe tbody tr th:only-of-type {\n",
       "        vertical-align: middle;\n",
       "    }\n",
       "\n",
       "    .dataframe tbody tr th {\n",
       "        vertical-align: top;\n",
       "    }\n",
       "\n",
       "    .dataframe thead th {\n",
       "        text-align: right;\n",
       "    }\n",
       "</style>\n",
       "<table border=\"1\" class=\"dataframe\">\n",
       "  <thead>\n",
       "    <tr style=\"text-align: right;\">\n",
       "      <th></th>\n",
       "      <th>id</th>\n",
       "      <th>Gender</th>\n",
       "      <th>Lenght</th>\n",
       "      <th>Diameter</th>\n",
       "      <th>Height</th>\n",
       "      <th>Whole Weight</th>\n",
       "      <th>Shucked Weight</th>\n",
       "      <th>Viscra Weight</th>\n",
       "      <th>Shell Weight</th>\n",
       "      <th>Ratio</th>\n",
       "    </tr>\n",
       "  </thead>\n",
       "  <tbody>\n",
       "    <tr>\n",
       "      <th>0</th>\n",
       "      <td>1</td>\n",
       "      <td>F</td>\n",
       "      <td>0.595</td>\n",
       "      <td>0.470</td>\n",
       "      <td>0.155</td>\n",
       "      <td>1.121</td>\n",
       "      <td>0.4515</td>\n",
       "      <td>0.1780</td>\n",
       "      <td>0.1550</td>\n",
       "      <td>0.402765</td>\n",
       "    </tr>\n",
       "    <tr>\n",
       "      <th>1</th>\n",
       "      <td>2</td>\n",
       "      <td>M</td>\n",
       "      <td>0.580</td>\n",
       "      <td>0.450</td>\n",
       "      <td>0.150</td>\n",
       "      <td>0.927</td>\n",
       "      <td>0.2760</td>\n",
       "      <td>0.1815</td>\n",
       "      <td>0.3600</td>\n",
       "      <td>0.297735</td>\n",
       "    </tr>\n",
       "    <tr>\n",
       "      <th>2</th>\n",
       "      <td>3</td>\n",
       "      <td>I</td>\n",
       "      <td>0.260</td>\n",
       "      <td>0.205</td>\n",
       "      <td>0.070</td>\n",
       "      <td>0.097</td>\n",
       "      <td>0.0415</td>\n",
       "      <td>0.0190</td>\n",
       "      <td>0.0305</td>\n",
       "      <td>0.427835</td>\n",
       "    </tr>\n",
       "    <tr>\n",
       "      <th>3</th>\n",
       "      <td>4</td>\n",
       "      <td>M</td>\n",
       "      <td>0.590</td>\n",
       "      <td>0.460</td>\n",
       "      <td>0.130</td>\n",
       "      <td>1.102</td>\n",
       "      <td>0.4550</td>\n",
       "      <td>0.2055</td>\n",
       "      <td>0.3300</td>\n",
       "      <td>0.412886</td>\n",
       "    </tr>\n",
       "    <tr>\n",
       "      <th>4</th>\n",
       "      <td>5</td>\n",
       "      <td>F</td>\n",
       "      <td>0.595</td>\n",
       "      <td>0.465</td>\n",
       "      <td>0.140</td>\n",
       "      <td>1.113</td>\n",
       "      <td>0.5175</td>\n",
       "      <td>0.2440</td>\n",
       "      <td>0.3050</td>\n",
       "      <td>0.464960</td>\n",
       "    </tr>\n",
       "  </tbody>\n",
       "</table>\n",
       "</div>"
      ],
      "text/plain": [
       "   id Gender  Lenght  Diameter  Height  Whole Weight  Shucked Weight  \\\n",
       "0   1      F   0.595     0.470   0.155         1.121          0.4515   \n",
       "1   2      M   0.580     0.450   0.150         0.927          0.2760   \n",
       "2   3      I   0.260     0.205   0.070         0.097          0.0415   \n",
       "3   4      M   0.590     0.460   0.130         1.102          0.4550   \n",
       "4   5      F   0.595     0.465   0.140         1.113          0.5175   \n",
       "\n",
       "   Viscra Weight  Shell Weight     Ratio  \n",
       "0         0.1780        0.1550  0.402765  \n",
       "1         0.1815        0.3600  0.297735  \n",
       "2         0.0190        0.0305  0.427835  \n",
       "3         0.2055        0.3300  0.412886  \n",
       "4         0.2440        0.3050  0.464960  "
      ]
     },
     "execution_count": 146,
     "metadata": {},
     "output_type": "execute_result"
    }
   ],
   "source": [
    "Ratio_train =  train_data['Shucked Weight']/train_data['Whole Weight'] \n",
    "Ratio_ques =  ques_data['Shucked Weight']/ques_data['Whole Weight'] \n",
    "train_data['Ratio'] = Ratio_train\n",
    "ques_data['Ratio'] = Ratio_ques\n",
    "print(train_data.head())\n",
    "ques_data.head()"
   ]
  },
  {
   "cell_type": "code",
   "execution_count": 147,
   "metadata": {},
   "outputs": [
    {
     "name": "stdout",
     "output_type": "stream",
     "text": [
      "(1247, 11) (2924, 10) (1247,)\n",
      "(1247, 11) (2924, 11) (1247,)\n"
     ]
    }
   ],
   "source": [
    "train_target = train_data['Target']\n",
    "print(train_data.shape,ques_data.shape,train_target.shape)\n",
    "train_data.drop(['id', 'Target'], axis=1,inplace=True)\n",
    "ques_data.drop(['id'], axis=1,inplace=True)\n",
    "train_data = pd.get_dummies(train_data)\n",
    "ques_data = pd.get_dummies(ques_data)\n",
    "\n",
    "print(train_data.shape,ques_data.shape,train_target.shape)"
   ]
  },
  {
   "cell_type": "code",
   "execution_count": 148,
   "metadata": {},
   "outputs": [],
   "source": [
    "train_max_input = train_data.to_numpy()\n",
    "train_max_target = train_target.to_numpy()\n",
    "ques_input =ques_data.to_numpy()"
   ]
  },
  {
   "cell_type": "code",
   "execution_count": 149,
   "metadata": {},
   "outputs": [
    {
     "name": "stdout",
     "output_type": "stream",
     "text": [
      "(997, 11)\n",
      "(250, 11)\n",
      "(1247, 11)\n"
     ]
    }
   ],
   "source": [
    "from sklearn.model_selection import train_test_split\n",
    "#훈련세트와 테스트 세트 나누기\n",
    "train_input, test_input, train_target, test_target = train_test_split(train_max_input,train_max_target, test_size=0.2, random_state=30)\n",
    "print(train_input.shape)\n",
    "print(test_input.shape)\n",
    "print(train_max_input.shape)"
   ]
  },
  {
   "cell_type": "code",
   "execution_count": 150,
   "metadata": {},
   "outputs": [
    {
     "name": "stdout",
     "output_type": "stream",
     "text": [
      "(997, 11)\n",
      "(797, 11)\n",
      "(200, 11)\n"
     ]
    }
   ],
   "source": [
    "#훈련세트랑 검증세트도\n",
    "sub_input, val_input,sub_target, val_target = train_test_split(train_input,train_target, test_size=0.2,random_state=30)\n",
    "print(train_input.shape)\n",
    "print(sub_input.shape)\n",
    "print(val_input.shape)"
   ]
  },
  {
   "cell_type": "code",
   "execution_count": 151,
   "metadata": {},
   "outputs": [],
   "source": [
    "#특성공학으로 특성 늘리기\n",
    "from sklearn.preprocessing import PolynomialFeatures\n",
    "poly = PolynomialFeatures(degree=2,include_bias= False)\n",
    "poly.fit(sub_input)\n",
    "train_max_poly = poly.transform(train_max_input)\n",
    "ques_poly=poly.transform(ques_input)\n",
    "train_poly=poly.transform(train_input)\n",
    "test_poly = poly.transform(test_input)\n",
    "sub_poly=poly.transform(sub_input)\n",
    "val_poly = poly.transform(val_input)"
   ]
  },
  {
   "cell_type": "code",
   "execution_count": 152,
   "metadata": {},
   "outputs": [],
   "source": [
    "#규제 전 전처리 과정\n",
    "from sklearn.preprocessing import StandardScaler\n",
    "ss= StandardScaler()\n",
    "ss.fit(sub_poly)\n",
    "train_scaled = ss.transform(train_poly)\n",
    "sub_scaled = ss.transform(sub_poly)\n",
    "val_scaled = ss.transform(val_poly)\n",
    "train_max_scaled = ss.transform(train_max_poly)\n",
    "ques_scaled = ss.transform(ques_poly)\n",
    "test_scaled = ss.transform(test_poly)"
   ]
  },
  {
   "cell_type": "code",
   "execution_count": 153,
   "metadata": {},
   "outputs": [],
   "source": [
    "sub_scores =[]\n",
    "val_scores = []"
   ]
  },
  {
   "cell_type": "code",
   "execution_count": 154,
   "metadata": {},
   "outputs": [
    {
     "name": "stdout",
     "output_type": "stream",
     "text": [
      "[0.5856780939854798, 0.5842003186867455, 0.5790704725883173, 0.5671863652527971, 0.5520164484678205, 0.5178384990152508, 0.4640866111428279, 0.3096432917687113]\n",
      "[0.5238669133658975, 0.5216244476378011, 0.5296787433559411, 0.5464826672455578, 0.5517561867452083, 0.5467614372339333, 0.514437548106141, 0.35298768495499366]\n",
      "0.5520164484678205\n",
      "0.5517561867452083\n",
      "10\n"
     ]
    }
   ],
   "source": [
    "#최적의 alpha값 찾기\n",
    "import numpy as np\n",
    "from sklearn.linear_model import Ridge\n",
    "alpha_list = [0.001,0.01,0.1,1,10,100,1000,10000]\n",
    "for alpha in alpha_list:\n",
    "    ridge= Ridge(alpha=alpha)\n",
    "    ridge.fit(sub_scaled, sub_target)\n",
    "    sub_scores.append(ridge.score(sub_scaled,sub_target))\n",
    "    val_scores.append(ridge.score(val_scaled,val_target))\n",
    "    \n",
    "print(sub_scores)\n",
    "print(val_scores)\n",
    "print(sub_scores[np.argmax(val_scores)])\n",
    "print(np.max(val_scores))\n",
    "print(alpha_list[np.argmax(val_scores)])"
   ]
  },
  {
   "cell_type": "code",
   "execution_count": 155,
   "metadata": {},
   "outputs": [
    {
     "data": {
      "image/png": "[encoded data removed]",
      "text/plain": [
       "<Figure size 432x288 with 1 Axes>"
      ]
     },
     "metadata": {
      "needs_background": "light"
     },
     "output_type": "display_data"
    }
   ],
   "source": [
    "import matplotlib.pyplot as plt\n",
    "plt.plot(np.log10(alpha_list),sub_scores)\n",
    "plt.plot(np.log10(alpha_list),val_scores)\n",
    "plt.ylim(0, 1)\n",
    "plt.xlabel('alpha')\n",
    "plt.ylabel('R^2')\n",
    "plt.legend(['sub','val'])\n",
    "plt.show()"
   ]
  },
  {
   "cell_type": "code",
   "execution_count": 156,
   "metadata": {},
   "outputs": [
    {
     "name": "stdout",
     "output_type": "stream",
     "text": [
      "0.5584171530549054\n",
      "0.609085552316235\n"
     ]
    }
   ],
   "source": [
    "#최종 확인\n",
    "ridge =Ridge(alpha=10)\n",
    "ridge.fit(train_scaled,train_target)\n",
    "print(ridge.score(train_scaled,train_target))\n",
    "print(ridge.score(test_scaled,test_target))"
   ]
  },
  {
   "cell_type": "code",
   "execution_count": 157,
   "metadata": {},
   "outputs": [],
   "source": [
    "#답 구하기\n",
    "ridge.fit(train_max_scaled,train_max_target)\n",
    "ans=ridge.predict(ques_scaled)"
   ]
  },
  {
   "cell_type": "code",
   "execution_count": 158,
   "metadata": {},
   "outputs": [],
   "source": [
    "submission = pd.read_csv(\"E:\\데이콘\\전복나이 예측\\데이터\\sample_submission.csv\")\n",
    "submission['Target'] = ans\n",
    "submission.to_csv(\"Submit_8(피처추가1+릿지).csv\",index=False)"
   ]
  }
 ],
 "metadata": {
  "interpreter": {
   "hash": "0acc62e3991d0f967e612eec664f4e3cdc0de12aaa299698365d7f9a254e36c2"
  },
  "kernelspec": {
   "display_name": "Python 3.10.2 64-bit (system)",
   "language": "python",
   "name": "python3"
  },
  "language_info": {
   "codemirror_mode": {
    "name": "ipython",
    "version": 3
   },
   "file_extension": ".py",
   "mimetype": "text/x-python",
   "name": "python",
   "nbconvert_exporter": "python",
   "pygments_lexer": "ipython3",
   "version": "3.10.2"
  },
  "orig_nbformat": 4
 },
 "nbformat": 4,
 "nbformat_minor": 2
}
