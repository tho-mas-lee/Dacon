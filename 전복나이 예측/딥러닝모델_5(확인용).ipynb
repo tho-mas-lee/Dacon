{
 "cells": [
  {
   "cell_type": "code",
   "execution_count": 1,
   "metadata": {},
   "outputs": [],
   "source": [
    "#데이터 준비하기 \n",
    "import pandas as pd\n",
    "\n",
    "train_data = pd.read_csv(\"E:\\데이콘\\\\전복나이 예측\\\\데이터\\\\train.csv\")\n",
    "\n",
    "ques_data = pd.read_csv(\"E:\\데이콘\\\\전복나이 예측\\\\데이터\\\\test.csv\")"
   ]
  },
  {
   "cell_type": "code",
   "execution_count": 2,
   "metadata": {},
   "outputs": [
    {
     "name": "stdout",
     "output_type": "stream",
     "text": [
      "Index(['id', 'Gender', 'Lenght', 'Diameter', 'Height', 'Whole Weight',\n",
      "       'Shucked Weight', 'Viscra Weight', 'Shell Weight', 'Target'],\n",
      "      dtype='object')\n"
     ]
    }
   ],
   "source": [
    "print(train_data.columns)"
   ]
  },
  {
   "cell_type": "markdown",
   "metadata": {},
   "source": [
    "Viscra 내장\n",
    "Shucked Weight  the weight without the shell\n",
    "Shell Weight 껍질 무게\n",
    "\n",
    "\n",
    "제거할 번호 465, 762, 47, 382, 435, 1078"
   ]
  },
  {
   "cell_type": "code",
   "execution_count": 3,
   "metadata": {},
   "outputs": [
    {
     "data": {
      "text/html": [
       "<div>\n",
       "<style scoped>\n",
       "    .dataframe tbody tr th:only-of-type {\n",
       "        vertical-align: middle;\n",
       "    }\n",
       "\n",
       "    .dataframe tbody tr th {\n",
       "        vertical-align: top;\n",
       "    }\n",
       "\n",
       "    .dataframe thead th {\n",
       "        text-align: right;\n",
       "    }\n",
       "</style>\n",
       "<table border=\"1\" class=\"dataframe\">\n",
       "  <thead>\n",
       "    <tr style=\"text-align: right;\">\n",
       "      <th></th>\n",
       "      <th>id</th>\n",
       "      <th>Gender</th>\n",
       "      <th>Lenght</th>\n",
       "      <th>Diameter</th>\n",
       "      <th>Height</th>\n",
       "      <th>Whole Weight</th>\n",
       "      <th>Shucked Weight</th>\n",
       "      <th>Viscra Weight</th>\n",
       "      <th>Shell Weight</th>\n",
       "      <th>Target</th>\n",
       "    </tr>\n",
       "  </thead>\n",
       "  <tbody>\n",
       "    <tr>\n",
       "      <th>465</th>\n",
       "      <td>466</td>\n",
       "      <td>M</td>\n",
       "      <td>0.415</td>\n",
       "      <td>0.315</td>\n",
       "      <td>0.125</td>\n",
       "      <td>0.388</td>\n",
       "      <td>0.068</td>\n",
       "      <td>0.09</td>\n",
       "      <td>0.125</td>\n",
       "      <td>12</td>\n",
       "    </tr>\n",
       "  </tbody>\n",
       "</table>\n",
       "</div>"
      ],
      "text/plain": [
       "      id Gender  Lenght  Diameter  Height  Whole Weight  Shucked Weight  \\\n",
       "465  466      M   0.415     0.315   0.125         0.388           0.068   \n",
       "\n",
       "     Viscra Weight  Shell Weight  Target  \n",
       "465           0.09         0.125      12  "
      ]
     },
     "execution_count": 3,
     "metadata": {},
     "output_type": "execute_result"
    }
   ],
   "source": [
    "train_data[train_data['Viscra Weight']>train_data['Shucked Weight']]"
   ]
  },
  {
   "cell_type": "code",
   "execution_count": 5,
   "metadata": {},
   "outputs": [
    {
     "data": {
      "text/html": [
       "<div>\n",
       "<style scoped>\n",
       "    .dataframe tbody tr th:only-of-type {\n",
       "        vertical-align: middle;\n",
       "    }\n",
       "\n",
       "    .dataframe tbody tr th {\n",
       "        vertical-align: top;\n",
       "    }\n",
       "\n",
       "    .dataframe thead th {\n",
       "        text-align: right;\n",
       "    }\n",
       "</style>\n",
       "<table border=\"1\" class=\"dataframe\">\n",
       "  <thead>\n",
       "    <tr style=\"text-align: right;\">\n",
       "      <th></th>\n",
       "      <th>id</th>\n",
       "      <th>Gender</th>\n",
       "      <th>Lenght</th>\n",
       "      <th>Diameter</th>\n",
       "      <th>Height</th>\n",
       "      <th>Whole Weight</th>\n",
       "      <th>Shucked Weight</th>\n",
       "      <th>Viscra Weight</th>\n",
       "      <th>Shell Weight</th>\n",
       "      <th>Target</th>\n",
       "    </tr>\n",
       "  </thead>\n",
       "  <tbody>\n",
       "    <tr>\n",
       "      <th>47</th>\n",
       "      <td>48</td>\n",
       "      <td>I</td>\n",
       "      <td>0.380</td>\n",
       "      <td>0.275</td>\n",
       "      <td>0.095</td>\n",
       "      <td>0.1375</td>\n",
       "      <td>0.0860</td>\n",
       "      <td>0.0585</td>\n",
       "      <td>0.0605</td>\n",
       "      <td>7</td>\n",
       "    </tr>\n",
       "    <tr>\n",
       "      <th>382</th>\n",
       "      <td>383</td>\n",
       "      <td>I</td>\n",
       "      <td>0.455</td>\n",
       "      <td>0.330</td>\n",
       "      <td>0.100</td>\n",
       "      <td>0.3720</td>\n",
       "      <td>0.3580</td>\n",
       "      <td>0.0775</td>\n",
       "      <td>0.1100</td>\n",
       "      <td>8</td>\n",
       "    </tr>\n",
       "    <tr>\n",
       "      <th>435</th>\n",
       "      <td>436</td>\n",
       "      <td>I</td>\n",
       "      <td>0.475</td>\n",
       "      <td>0.365</td>\n",
       "      <td>0.100</td>\n",
       "      <td>0.1315</td>\n",
       "      <td>0.2025</td>\n",
       "      <td>0.0875</td>\n",
       "      <td>0.1230</td>\n",
       "      <td>7</td>\n",
       "    </tr>\n",
       "    <tr>\n",
       "      <th>847</th>\n",
       "      <td>848</td>\n",
       "      <td>I</td>\n",
       "      <td>0.230</td>\n",
       "      <td>0.165</td>\n",
       "      <td>0.060</td>\n",
       "      <td>0.0515</td>\n",
       "      <td>0.0190</td>\n",
       "      <td>0.0145</td>\n",
       "      <td>0.0360</td>\n",
       "      <td>4</td>\n",
       "    </tr>\n",
       "    <tr>\n",
       "      <th>1078</th>\n",
       "      <td>1079</td>\n",
       "      <td>I</td>\n",
       "      <td>0.275</td>\n",
       "      <td>0.205</td>\n",
       "      <td>0.070</td>\n",
       "      <td>0.1055</td>\n",
       "      <td>0.4950</td>\n",
       "      <td>0.0190</td>\n",
       "      <td>0.0315</td>\n",
       "      <td>5</td>\n",
       "    </tr>\n",
       "  </tbody>\n",
       "</table>\n",
       "</div>"
      ],
      "text/plain": [
       "        id Gender  Lenght  Diameter  Height  Whole Weight  Shucked Weight  \\\n",
       "47      48      I   0.380     0.275   0.095        0.1375          0.0860   \n",
       "382    383      I   0.455     0.330   0.100        0.3720          0.3580   \n",
       "435    436      I   0.475     0.365   0.100        0.1315          0.2025   \n",
       "847    848      I   0.230     0.165   0.060        0.0515          0.0190   \n",
       "1078  1079      I   0.275     0.205   0.070        0.1055          0.4950   \n",
       "\n",
       "      Viscra Weight  Shell Weight  Target  \n",
       "47           0.0585        0.0605       7  \n",
       "382          0.0775        0.1100       8  \n",
       "435          0.0875        0.1230       7  \n",
       "847          0.0145        0.0360       4  \n",
       "1078         0.0190        0.0315       5  "
      ]
     },
     "execution_count": 5,
     "metadata": {},
     "output_type": "execute_result"
    }
   ],
   "source": [
    "train_data[(train_data['Shell Weight']+train_data['Shucked Weight'])>train_data['Whole Weight']]"
   ]
  },
  {
   "cell_type": "code",
   "execution_count": 6,
   "metadata": {},
   "outputs": [
    {
     "data": {
      "text/html": [
       "<div>\n",
       "<style scoped>\n",
       "    .dataframe tbody tr th:only-of-type {\n",
       "        vertical-align: middle;\n",
       "    }\n",
       "\n",
       "    .dataframe tbody tr th {\n",
       "        vertical-align: top;\n",
       "    }\n",
       "\n",
       "    .dataframe thead th {\n",
       "        text-align: right;\n",
       "    }\n",
       "</style>\n",
       "<table border=\"1\" class=\"dataframe\">\n",
       "  <thead>\n",
       "    <tr style=\"text-align: right;\">\n",
       "      <th></th>\n",
       "      <th>id</th>\n",
       "      <th>Gender</th>\n",
       "      <th>Lenght</th>\n",
       "      <th>Diameter</th>\n",
       "      <th>Height</th>\n",
       "      <th>Whole Weight</th>\n",
       "      <th>Shucked Weight</th>\n",
       "      <th>Viscra Weight</th>\n",
       "      <th>Shell Weight</th>\n",
       "      <th>Target</th>\n",
       "    </tr>\n",
       "  </thead>\n",
       "  <tbody>\n",
       "    <tr>\n",
       "      <th>435</th>\n",
       "      <td>436</td>\n",
       "      <td>I</td>\n",
       "      <td>0.475</td>\n",
       "      <td>0.365</td>\n",
       "      <td>0.10</td>\n",
       "      <td>0.1315</td>\n",
       "      <td>0.2025</td>\n",
       "      <td>0.0875</td>\n",
       "      <td>0.1230</td>\n",
       "      <td>7</td>\n",
       "    </tr>\n",
       "    <tr>\n",
       "      <th>1078</th>\n",
       "      <td>1079</td>\n",
       "      <td>I</td>\n",
       "      <td>0.275</td>\n",
       "      <td>0.205</td>\n",
       "      <td>0.07</td>\n",
       "      <td>0.1055</td>\n",
       "      <td>0.4950</td>\n",
       "      <td>0.0190</td>\n",
       "      <td>0.0315</td>\n",
       "      <td>5</td>\n",
       "    </tr>\n",
       "  </tbody>\n",
       "</table>\n",
       "</div>"
      ],
      "text/plain": [
       "        id Gender  Lenght  Diameter  Height  Whole Weight  Shucked Weight  \\\n",
       "435    436      I   0.475     0.365    0.10        0.1315          0.2025   \n",
       "1078  1079      I   0.275     0.205    0.07        0.1055          0.4950   \n",
       "\n",
       "      Viscra Weight  Shell Weight  Target  \n",
       "435          0.0875        0.1230       7  \n",
       "1078         0.0190        0.0315       5  "
      ]
     },
     "execution_count": 6,
     "metadata": {},
     "output_type": "execute_result"
    }
   ],
   "source": [
    "train_data[train_data['Shucked Weight']>train_data['Whole Weight']]"
   ]
  },
  {
   "cell_type": "code",
   "execution_count": 7,
   "metadata": {},
   "outputs": [
    {
     "name": "stdout",
     "output_type": "stream",
     "text": [
      "(1253, 10)\n"
     ]
    }
   ],
   "source": [
    "print(train_data.shape)\n",
    "train_data.drop(index=762,axis =0,inplace= True)\n",
    "train_data.drop(index=465,axis =0,inplace= True)\n",
    "train_data.drop(index=47,axis =0,inplace= True)\n",
    "train_data.drop(index=382,axis =0,inplace= True)\n",
    "train_data.drop(index=435,axis =0,inplace= True)\n",
    "train_data.drop(index=1078,axis =0,inplace= True)\n",
    "#내장무게랑 껍질 무게 헷갈려서 잘못 제거 했었지만 이게 더 효율이 좋길래 유지."
   ]
  },
  {
   "cell_type": "code",
   "execution_count": 298,
   "metadata": {},
   "outputs": [
    {
     "name": "stdout",
     "output_type": "stream",
     "text": [
      "(1247, 10)\n"
     ]
    }
   ],
   "source": [
    "print(train_data.shape)"
   ]
  },
  {
   "cell_type": "code",
   "execution_count": 299,
   "metadata": {},
   "outputs": [],
   "source": [
    "#water = 전체무게 -(껍질무게+껍질을 제외한 무게) 보다 ratio=껍질을 제외한 무게/전체 무게 \n",
    "water_train = train_data['Whole Weight'] -train_data['Shucked Weight']\n",
    "water_ques = ques_data['Whole Weight'] -ques_data['Shucked Weight']"
   ]
  },
  {
   "cell_type": "code",
   "execution_count": 300,
   "metadata": {},
   "outputs": [],
   "source": [
    "#train_data['Water'] = water_train\n",
    "#ques_data['Water'] = water_ques"
   ]
  },
  {
   "cell_type": "code",
   "execution_count": 301,
   "metadata": {},
   "outputs": [
    {
     "name": "stdout",
     "output_type": "stream",
     "text": [
      "   id Gender  Lenght  Diameter  Height  Whole Weight  Shucked Weight  \\\n",
      "0   1      M   0.605     0.470   0.115        1.1140          0.3925   \n",
      "1   2      I   0.430     0.315   0.095        0.3780          0.1750   \n",
      "2   3      I   0.580     0.490   0.195        1.3165          0.5305   \n",
      "3   4      M   0.535     0.405   0.175        1.2705          0.5480   \n",
      "4   5      I   0.310     0.235   0.090        0.1270          0.0480   \n",
      "\n",
      "   Viscra Weight  Shell Weight  Target     Ratio  \n",
      "0         0.2910        0.3100      15  0.352334  \n",
      "1         0.0800        0.1045       8  0.462963  \n",
      "2         0.2540        0.4100      18  0.402962  \n",
      "3         0.3265        0.3370      13  0.431326  \n",
      "4         0.0310        0.0400       6  0.377953  \n"
     ]
    },
    {
     "data": {
      "text/html": [
       "<div>\n",
       "<style scoped>\n",
       "    .dataframe tbody tr th:only-of-type {\n",
       "        vertical-align: middle;\n",
       "    }\n",
       "\n",
       "    .dataframe tbody tr th {\n",
       "        vertical-align: top;\n",
       "    }\n",
       "\n",
       "    .dataframe thead th {\n",
       "        text-align: right;\n",
       "    }\n",
       "</style>\n",
       "<table border=\"1\" class=\"dataframe\">\n",
       "  <thead>\n",
       "    <tr style=\"text-align: right;\">\n",
       "      <th></th>\n",
       "      <th>id</th>\n",
       "      <th>Gender</th>\n",
       "      <th>Lenght</th>\n",
       "      <th>Diameter</th>\n",
       "      <th>Height</th>\n",
       "      <th>Whole Weight</th>\n",
       "      <th>Shucked Weight</th>\n",
       "      <th>Viscra Weight</th>\n",
       "      <th>Shell Weight</th>\n",
       "      <th>Ratio</th>\n",
       "    </tr>\n",
       "  </thead>\n",
       "  <tbody>\n",
       "    <tr>\n",
       "      <th>0</th>\n",
       "      <td>1</td>\n",
       "      <td>F</td>\n",
       "      <td>0.595</td>\n",
       "      <td>0.470</td>\n",
       "      <td>0.155</td>\n",
       "      <td>1.121</td>\n",
       "      <td>0.4515</td>\n",
       "      <td>0.1780</td>\n",
       "      <td>0.1550</td>\n",
       "      <td>0.402765</td>\n",
       "    </tr>\n",
       "    <tr>\n",
       "      <th>1</th>\n",
       "      <td>2</td>\n",
       "      <td>M</td>\n",
       "      <td>0.580</td>\n",
       "      <td>0.450</td>\n",
       "      <td>0.150</td>\n",
       "      <td>0.927</td>\n",
       "      <td>0.2760</td>\n",
       "      <td>0.1815</td>\n",
       "      <td>0.3600</td>\n",
       "      <td>0.297735</td>\n",
       "    </tr>\n",
       "    <tr>\n",
       "      <th>2</th>\n",
       "      <td>3</td>\n",
       "      <td>I</td>\n",
       "      <td>0.260</td>\n",
       "      <td>0.205</td>\n",
       "      <td>0.070</td>\n",
       "      <td>0.097</td>\n",
       "      <td>0.0415</td>\n",
       "      <td>0.0190</td>\n",
       "      <td>0.0305</td>\n",
       "      <td>0.427835</td>\n",
       "    </tr>\n",
       "    <tr>\n",
       "      <th>3</th>\n",
       "      <td>4</td>\n",
       "      <td>M</td>\n",
       "      <td>0.590</td>\n",
       "      <td>0.460</td>\n",
       "      <td>0.130</td>\n",
       "      <td>1.102</td>\n",
       "      <td>0.4550</td>\n",
       "      <td>0.2055</td>\n",
       "      <td>0.3300</td>\n",
       "      <td>0.412886</td>\n",
       "    </tr>\n",
       "    <tr>\n",
       "      <th>4</th>\n",
       "      <td>5</td>\n",
       "      <td>F</td>\n",
       "      <td>0.595</td>\n",
       "      <td>0.465</td>\n",
       "      <td>0.140</td>\n",
       "      <td>1.113</td>\n",
       "      <td>0.5175</td>\n",
       "      <td>0.2440</td>\n",
       "      <td>0.3050</td>\n",
       "      <td>0.464960</td>\n",
       "    </tr>\n",
       "  </tbody>\n",
       "</table>\n",
       "</div>"
      ],
      "text/plain": [
       "   id Gender  Lenght  Diameter  Height  Whole Weight  Shucked Weight  \\\n",
       "0   1      F   0.595     0.470   0.155         1.121          0.4515   \n",
       "1   2      M   0.580     0.450   0.150         0.927          0.2760   \n",
       "2   3      I   0.260     0.205   0.070         0.097          0.0415   \n",
       "3   4      M   0.590     0.460   0.130         1.102          0.4550   \n",
       "4   5      F   0.595     0.465   0.140         1.113          0.5175   \n",
       "\n",
       "   Viscra Weight  Shell Weight     Ratio  \n",
       "0         0.1780        0.1550  0.402765  \n",
       "1         0.1815        0.3600  0.297735  \n",
       "2         0.0190        0.0305  0.427835  \n",
       "3         0.2055        0.3300  0.412886  \n",
       "4         0.2440        0.3050  0.464960  "
      ]
     },
     "execution_count": 301,
     "metadata": {},
     "output_type": "execute_result"
    }
   ],
   "source": [
    "Ratio_train =  train_data['Shucked Weight']/train_data['Whole Weight'] \n",
    "Ratio_ques =  ques_data['Shucked Weight']/ques_data['Whole Weight'] \n",
    "train_data['Ratio'] = Ratio_train\n",
    "ques_data['Ratio'] = Ratio_ques\n",
    "print(train_data.head())\n",
    "ques_data.head()"
   ]
  },
  {
   "cell_type": "code",
   "execution_count": 302,
   "metadata": {},
   "outputs": [
    {
     "name": "stdout",
     "output_type": "stream",
     "text": [
      "(1247, 11) (2924, 10) (1247,)\n",
      "(1247, 11) (2924, 11) (1247,)\n"
     ]
    }
   ],
   "source": [
    "train_target = train_data['Target']\n",
    "print(train_data.shape,ques_data.shape,train_target.shape)\n",
    "train_data.drop(['id', 'Target'], axis=1,inplace=True)\n",
    "ques_data.drop(['id'], axis=1,inplace=True)\n",
    "train_data = pd.get_dummies(train_data)\n",
    "ques_data = pd.get_dummies(ques_data)\n",
    "\n",
    "print(train_data.shape,ques_data.shape,train_target.shape)"
   ]
  },
  {
   "cell_type": "code",
   "execution_count": 303,
   "metadata": {},
   "outputs": [],
   "source": [
    "train_max_input = train_data.to_numpy()\n",
    "train_max_target = train_target.to_numpy()\n",
    "ques_input = ques_data.to_numpy()"
   ]
  },
  {
   "cell_type": "code",
   "execution_count": 304,
   "metadata": {},
   "outputs": [],
   "source": [
    "#특성공학으로도 늘려보기"
   ]
  },
  {
   "cell_type": "code",
   "execution_count": 305,
   "metadata": {},
   "outputs": [],
   "source": [
    "from sklearn.preprocessing import StandardScaler\n",
    "ss = StandardScaler()\n",
    "ss.fit(train_max_input)\n",
    "train_max_scaled = ss.transform(train_max_input)\n",
    "ques_scaled =ss.transform(ques_input)"
   ]
  },
  {
   "cell_type": "code",
   "execution_count": 306,
   "metadata": {},
   "outputs": [],
   "source": [
    "from sklearn.model_selection import train_test_split\n",
    "train_scaled, test_scaled, train_target, test_target = train_test_split(train_max_scaled,train_max_target,test_size=0.2, random_state=42)"
   ]
  },
  {
   "cell_type": "code",
   "execution_count": 307,
   "metadata": {},
   "outputs": [
    {
     "name": "stdout",
     "output_type": "stream",
     "text": [
      "(1247, 11)\n",
      "(997, 11)\n",
      "(250, 11)\n"
     ]
    }
   ],
   "source": [
    "print(train_max_scaled.shape)\n",
    "print(train_scaled.shape)\n",
    "print(test_scaled.shape)"
   ]
  },
  {
   "cell_type": "code",
   "execution_count": 308,
   "metadata": {},
   "outputs": [
    {
     "name": "stdout",
     "output_type": "stream",
     "text": [
      "Model: \"sequential_13\"\n",
      "_________________________________________________________________\n",
      " Layer (type)                Output Shape              Param #   \n",
      "=================================================================\n",
      " dense_78 (Dense)            (None, 16)                192       \n",
      "                                                                 \n",
      " dense_79 (Dense)            (None, 32)                544       \n",
      "                                                                 \n",
      " dense_80 (Dense)            (None, 64)                2112      \n",
      "                                                                 \n",
      " dropout_13 (Dropout)        (None, 64)                0         \n",
      "                                                                 \n",
      " dense_81 (Dense)            (None, 32)                2080      \n",
      "                                                                 \n",
      " dense_82 (Dense)            (None, 16)                528       \n",
      "                                                                 \n",
      " dense_83 (Dense)            (None, 1)                 17        \n",
      "                                                                 \n",
      "=================================================================\n",
      "Total params: 5,473\n",
      "Trainable params: 5,473\n",
      "Non-trainable params: 0\n",
      "_________________________________________________________________\n"
     ]
    }
   ],
   "source": [
    "from tensorflow import keras\n",
    "model = keras.Sequential()\n",
    "model.add(keras.layers.Dense(16,activation='elu', input_dim=11))\n",
    "model.add(keras.layers.Dense(32,activation='elu'))\n",
    "model.add(keras.layers.Dense(64,activation='elu'))\n",
    "model.add(keras.layers.Dropout(0.35))\n",
    "model.add(keras.layers.Dense(32,activation='elu'))\n",
    "model.add(keras.layers.Dense(16,activation='elu'))\n",
    "model.add(keras.layers.Dense(1))\n",
    "model.summary()"
   ]
  },
  {
   "cell_type": "code",
   "execution_count": 309,
   "metadata": {},
   "outputs": [],
   "source": [
    "##loss: 'mean_absolute_error'\n",
    "##optimizer 따로 함수 만들어서 다른것도 만들어보기\n",
    "#nadam = keras.optimizers.Nadam(learning_rate=0.005, beta_1=0.9, beta_2=0.999, epsilon=1e-07)\n",
    "#model.compile(loss ='mean_absolute_error',optimizer = nadam)\n",
    "#checkpoint_cb = keras.callbacks.ModelCheckpoint('딥러닝_1(model)', save_best_only=True)\n",
    "#early_stopping_cb = keras.callbacks.EarlyStopping(patience=100,restore_best_weights=True)\n"
   ]
  },
  {
   "cell_type": "code",
   "execution_count": 310,
   "metadata": {},
   "outputs": [],
   "source": [
    "#history = model.fit(train_scaled,train_target,validation_split=0.2,epochs=1000,callbacks=[checkpoint_cb,early_stopping_cb])\n",
    "#print(early_stopping_cb.stopped_epoch)\n",
    "#\n",
    "#print(history.history['loss'][early_stopping_cb.stopped_epoch-100],history.history['val_loss'][early_stopping_cb.stopped_epoch-100])"
   ]
  },
  {
   "cell_type": "code",
   "execution_count": 311,
   "metadata": {},
   "outputs": [
    {
     "name": "stdout",
     "output_type": "stream",
     "text": [
      "INFO:tensorflow:Assets written to: 딥러닝_1(model)\\assets\n",
      "INFO:tensorflow:Assets written to: 딥러닝_1(model)\\assets\n",
      "INFO:tensorflow:Assets written to: 딥러닝_1(model)\\assets\n",
      "INFO:tensorflow:Assets written to: 딥러닝_1(model)\\assets\n",
      "INFO:tensorflow:Assets written to: 딥러닝_1(model)\\assets\n",
      "INFO:tensorflow:Assets written to: 딥러닝_1(model)\\assets\n",
      "INFO:tensorflow:Assets written to: 딥러닝_1(model)\\assets\n",
      "INFO:tensorflow:Assets written to: 딥러닝_1(model)\\assets\n",
      "INFO:tensorflow:Assets written to: 딥러닝_1(model)\\assets\n",
      "INFO:tensorflow:Assets written to: 딥러닝_1(model)\\assets\n",
      "INFO:tensorflow:Assets written to: 딥러닝_1(model)\\assets\n",
      "INFO:tensorflow:Assets written to: 딥러닝_1(model)\\assets\n",
      "INFO:tensorflow:Assets written to: 딥러닝_1(model)\\assets\n",
      "INFO:tensorflow:Assets written to: 딥러닝_1(model)\\assets\n",
      "INFO:tensorflow:Assets written to: 딥러닝_1(model)\\assets\n",
      "INFO:tensorflow:Assets written to: 딥러닝_1(model)\\assets\n",
      "INFO:tensorflow:Assets written to: 딥러닝_1(model)\\assets\n",
      "INFO:tensorflow:Assets written to: 딥러닝_1(model)\\assets\n",
      "INFO:tensorflow:Assets written to: 딥러닝_1(model)\\assets\n",
      "INFO:tensorflow:Assets written to: 딥러닝_1(model)\\assets\n",
      "INFO:tensorflow:Assets written to: 딥러닝_1(model)\\assets\n",
      "INFO:tensorflow:Assets written to: 딥러닝_1(model)\\assets\n",
      "INFO:tensorflow:Assets written to: 딥러닝_1(model)\\assets\n",
      "INFO:tensorflow:Assets written to: 딥러닝_1(model)\\assets\n",
      "INFO:tensorflow:Assets written to: 딥러닝_1(model)\\assets\n",
      "INFO:tensorflow:Assets written to: 딥러닝_1(model)\\assets\n",
      "INFO:tensorflow:Assets written to: 딥러닝_1(model)\\assets\n",
      "INFO:tensorflow:Assets written to: 딥러닝_1(model)\\assets\n",
      "INFO:tensorflow:Assets written to: 딥러닝_1(model)\\assets\n",
      "INFO:tensorflow:Assets written to: 딥러닝_1(model)\\assets\n",
      "INFO:tensorflow:Assets written to: 딥러닝_1(model)\\assets\n",
      "INFO:tensorflow:Assets written to: 딥러닝_1(model)\\assets\n",
      "INFO:tensorflow:Assets written to: 딥러닝_1(model)\\assets\n",
      "INFO:tensorflow:Assets written to: 딥러닝_1(model)\\assets\n",
      "INFO:tensorflow:Assets written to: 딥러닝_1(model)\\assets\n",
      "INFO:tensorflow:Assets written to: 딥러닝_1(model)\\assets\n",
      "INFO:tensorflow:Assets written to: 딥러닝_1(model)\\assets\n",
      "INFO:tensorflow:Assets written to: 딥러닝_1(model)\\assets\n",
      "INFO:tensorflow:Assets written to: 딥러닝_1(model)\\assets\n",
      "INFO:tensorflow:Assets written to: 딥러닝_1(model)\\assets\n",
      "INFO:tensorflow:Assets written to: 딥러닝_1(model)\\assets\n",
      "INFO:tensorflow:Assets written to: 딥러닝_1(model)\\assets\n",
      "INFO:tensorflow:Assets written to: 딥러닝_1(model)\\assets\n",
      "INFO:tensorflow:Assets written to: 딥러닝_1(model)\\assets\n",
      "INFO:tensorflow:Assets written to: 딥러닝_1(model)\\assets\n",
      "INFO:tensorflow:Assets written to: 딥러닝_1(model)\\assets\n",
      "INFO:tensorflow:Assets written to: 딥러닝_1(model)\\assets\n",
      "INFO:tensorflow:Assets written to: 딥러닝_1(model)\\assets\n",
      "INFO:tensorflow:Assets written to: 딥러닝_1(model)\\assets\n",
      "INFO:tensorflow:Assets written to: 딥러닝_1(model)\\assets\n",
      "INFO:tensorflow:Assets written to: 딥러닝_1(model)\\assets\n",
      "INFO:tensorflow:Assets written to: 딥러닝_1(model)\\assets\n",
      "INFO:tensorflow:Assets written to: 딥러닝_1(model)\\assets\n",
      "INFO:tensorflow:Assets written to: 딥러닝_1(model)\\assets\n",
      "INFO:tensorflow:Assets written to: 딥러닝_1(model)\\assets\n",
      "INFO:tensorflow:Assets written to: 딥러닝_1(model)\\assets\n",
      "INFO:tensorflow:Assets written to: 딥러닝_1(model)\\assets\n",
      "INFO:tensorflow:Assets written to: 딥러닝_1(model)\\assets\n",
      "INFO:tensorflow:Assets written to: 딥러닝_1(model)\\assets\n",
      "INFO:tensorflow:Assets written to: 딥러닝_1(model)\\assets\n",
      "INFO:tensorflow:Assets written to: 딥러닝_1(model)\\assets\n",
      "INFO:tensorflow:Assets written to: 딥러닝_1(model)\\assets\n",
      "INFO:tensorflow:Assets written to: 딥러닝_1(model)\\assets\n",
      "INFO:tensorflow:Assets written to: 딥러닝_1(model)\\assets\n",
      "INFO:tensorflow:Assets written to: 딥러닝_1(model)\\assets\n",
      "INFO:tensorflow:Assets written to: 딥러닝_1(model)\\assets\n",
      "INFO:tensorflow:Assets written to: 딥러닝_1(model)\\assets\n",
      "INFO:tensorflow:Assets written to: 딥러닝_1(model)\\assets\n",
      "INFO:tensorflow:Assets written to: 딥러닝_1(model)\\assets\n",
      "INFO:tensorflow:Assets written to: 딥러닝_1(model)\\assets\n",
      "INFO:tensorflow:Assets written to: 딥러닝_1(model)\\assets\n",
      "INFO:tensorflow:Assets written to: 딥러닝_1(model)\\assets\n",
      "INFO:tensorflow:Assets written to: 딥러닝_1(model)\\assets\n",
      "INFO:tensorflow:Assets written to: 딥러닝_1(model)\\assets\n",
      "INFO:tensorflow:Assets written to: 딥러닝_1(model)\\assets\n",
      "INFO:tensorflow:Assets written to: 딥러닝_1(model)\\assets\n",
      "INFO:tensorflow:Assets written to: 딥러닝_1(model)\\assets\n",
      "INFO:tensorflow:Assets written to: 딥러닝_1(model)\\assets\n",
      "INFO:tensorflow:Assets written to: 딥러닝_1(model)\\assets\n",
      "INFO:tensorflow:Assets written to: 딥러닝_1(model)\\assets\n",
      "INFO:tensorflow:Assets written to: 딥러닝_1(model)\\assets\n",
      "INFO:tensorflow:Assets written to: 딥러닝_1(model)\\assets\n",
      "INFO:tensorflow:Assets written to: 딥러닝_1(model)\\assets\n",
      "INFO:tensorflow:Assets written to: 딥러닝_1(model)\\assets\n",
      "INFO:tensorflow:Assets written to: 딥러닝_1(model)\\assets\n",
      "INFO:tensorflow:Assets written to: 딥러닝_1(model)\\assets\n",
      "INFO:tensorflow:Assets written to: 딥러닝_1(model)\\assets\n",
      "INFO:tensorflow:Assets written to: 딥러닝_1(model)\\assets\n",
      "INFO:tensorflow:Assets written to: 딥러닝_1(model)\\assets\n",
      "INFO:tensorflow:Assets written to: 딥러닝_1(model)\\assets\n",
      "INFO:tensorflow:Assets written to: 딥러닝_1(model)\\assets\n",
      "INFO:tensorflow:Assets written to: 딥러닝_1(model)\\assets\n",
      "INFO:tensorflow:Assets written to: 딥러닝_1(model)\\assets\n",
      "INFO:tensorflow:Assets written to: 딥러닝_1(model)\\assets\n",
      "INFO:tensorflow:Assets written to: 딥러닝_1(model)\\assets\n",
      "INFO:tensorflow:Assets written to: 딥러닝_1(model)\\assets\n",
      "INFO:tensorflow:Assets written to: 딥러닝_1(model)\\assets\n",
      "INFO:tensorflow:Assets written to: 딥러닝_1(model)\\assets\n",
      "INFO:tensorflow:Assets written to: 딥러닝_1(model)\\assets\n",
      "INFO:tensorflow:Assets written to: 딥러닝_1(model)\\assets\n",
      "INFO:tensorflow:Assets written to: 딥러닝_1(model)\\assets\n",
      "INFO:tensorflow:Assets written to: 딥러닝_1(model)\\assets\n",
      "INFO:tensorflow:Assets written to: 딥러닝_1(model)\\assets\n",
      "INFO:tensorflow:Assets written to: 딥러닝_1(model)\\assets\n",
      "INFO:tensorflow:Assets written to: 딥러닝_1(model)\\assets\n",
      "INFO:tensorflow:Assets written to: 딥러닝_1(model)\\assets\n",
      "INFO:tensorflow:Assets written to: 딥러닝_1(model)\\assets\n",
      "INFO:tensorflow:Assets written to: 딥러닝_1(model)\\assets\n",
      "INFO:tensorflow:Assets written to: 딥러닝_1(model)\\assets\n",
      "INFO:tensorflow:Assets written to: 딥러닝_1(model)\\assets\n",
      "INFO:tensorflow:Assets written to: 딥러닝_1(model)\\assets\n",
      "INFO:tensorflow:Assets written to: 딥러닝_1(model)\\assets\n",
      "INFO:tensorflow:Assets written to: 딥러닝_1(model)\\assets\n",
      "INFO:tensorflow:Assets written to: 딥러닝_1(model)\\assets\n",
      "INFO:tensorflow:Assets written to: 딥러닝_1(model)\\assets\n",
      "INFO:tensorflow:Assets written to: 딥러닝_1(model)\\assets\n",
      "INFO:tensorflow:Assets written to: 딥러닝_1(model)\\assets\n",
      "INFO:tensorflow:Assets written to: 딥러닝_1(model)\\assets\n",
      "INFO:tensorflow:Assets written to: 딥러닝_1(model)\\assets\n",
      "INFO:tensorflow:Assets written to: 딥러닝_1(model)\\assets\n",
      "INFO:tensorflow:Assets written to: 딥러닝_1(model)\\assets\n",
      "INFO:tensorflow:Assets written to: 딥러닝_1(model)\\assets\n",
      "INFO:tensorflow:Assets written to: 딥러닝_1(model)\\assets\n",
      "INFO:tensorflow:Assets written to: 딥러닝_1(model)\\assets\n",
      "INFO:tensorflow:Assets written to: 딥러닝_1(model)\\assets\n",
      "INFO:tensorflow:Assets written to: 딥러닝_1(model)\\assets\n",
      "INFO:tensorflow:Assets written to: 딥러닝_1(model)\\assets\n",
      "INFO:tensorflow:Assets written to: 딥러닝_1(model)\\assets\n",
      "INFO:tensorflow:Assets written to: 딥러닝_1(model)\\assets\n",
      "INFO:tensorflow:Assets written to: 딥러닝_1(model)\\assets\n",
      "INFO:tensorflow:Assets written to: 딥러닝_1(model)\\assets\n",
      "INFO:tensorflow:Assets written to: 딥러닝_1(model)\\assets\n",
      "[1.3865793943405151]\n",
      "[1.4787187576293945]\n",
      "INFO:tensorflow:Assets written to: 딥러닝_1(model)\\assets\n",
      "INFO:tensorflow:Assets written to: 딥러닝_1(model)\\assets\n",
      "INFO:tensorflow:Assets written to: 딥러닝_1(model)\\assets\n",
      "INFO:tensorflow:Assets written to: 딥러닝_1(model)\\assets\n",
      "[1.3865793943405151, 1.3409525156021118]\n",
      "[1.4787187576293945, 1.4454946517944336]\n",
      "INFO:tensorflow:Assets written to: 딥러닝_1(model)\\assets\n",
      "INFO:tensorflow:Assets written to: 딥러닝_1(model)\\assets\n",
      "INFO:tensorflow:Assets written to: 딥러닝_1(model)\\assets\n",
      "[1.3865793943405151, 1.3409525156021118, 1.3390586376190186]\n",
      "[1.4787187576293945, 1.4454946517944336, 1.4507060050964355]\n",
      "INFO:tensorflow:Assets written to: 딥러닝_1(model)\\assets\n",
      "INFO:tensorflow:Assets written to: 딥러닝_1(model)\\assets\n",
      "INFO:tensorflow:Assets written to: 딥러닝_1(model)\\assets\n",
      "INFO:tensorflow:Assets written to: 딥러닝_1(model)\\assets\n",
      "INFO:tensorflow:Assets written to: 딥러닝_1(model)\\assets\n",
      "[1.3865793943405151, 1.3409525156021118, 1.3390586376190186, 1.3946274518966675]\n",
      "[1.4787187576293945, 1.4454946517944336, 1.4507060050964355, 1.429193139076233]\n",
      "INFO:tensorflow:Assets written to: 딥러닝_1(model)\\assets\n",
      "INFO:tensorflow:Assets written to: 딥러닝_1(model)\\assets\n",
      "INFO:tensorflow:Assets written to: 딥러닝_1(model)\\assets\n",
      "[1.3865793943405151, 1.3409525156021118, 1.3390586376190186, 1.3946274518966675, 1.4808623790740967]\n",
      "[1.4787187576293945, 1.4454946517944336, 1.4507060050964355, 1.429193139076233, 1.4541733264923096]\n",
      "INFO:tensorflow:Assets written to: 딥러닝_1(model)\\assets\n"
     ]
    }
   ],
   "source": [
    "Tloss =[]\n",
    "Vloss=[]\n",
    "for i in [0.0001, 0.0005, 0.001, 0.005, 0.01, 0.05, 0.1]:\n",
    "    nadam = keras.optimizers.Nadam(learning_rate=i, beta_1=0.9, beta_2=0.999, epsilon=1e-07)\n",
    "    model.compile(loss ='mean_absolute_error',optimizer = nadam)\n",
    "    checkpoint_cb = keras.callbacks.ModelCheckpoint('딥러닝_1(model)', save_best_only=True)\n",
    "    early_stopping_cb = keras.callbacks.EarlyStopping(patience=100,restore_best_weights=True)\n",
    "    history = model.fit(train_scaled,train_target,validation_split=0.2,epochs=1000,callbacks=[checkpoint_cb,early_stopping_cb],verbose=0)\n",
    "    #print(i, early_stopping_cb.stopped_epoch)\n",
    "    #print(history.history['loss'][early_stopping_cb.stopped_epoch-100],history.history['val_loss'][early_stopping_cb.stopped_epoch-100])\n",
    "    #print(\"ㅡㅡㅡㅡㅡㅡㅡㅡㅡㅡㅡㅡㅡㅡㅡㅡㅡㅡㅡㅡㅡㅡㅡㅡㅡㅡㅡㅡㅡㅡㅡㅡㅡㅡㅡㅡㅡㅡㅡㅡㅡㅡㅡㅡㅡㅡㅡㅡㅡㅡㅡ\")\n",
    "    Tloss.append(history.history['loss'][early_stopping_cb.stopped_epoch-100])\n",
    "    Vloss.append(history.history['val_loss'][early_stopping_cb.stopped_epoch-100])\n",
    "    print(Tloss)\n",
    "    print(Vloss)\n",
    "print(Tloss)\n",
    "print(Vloss)\n"
   ]
  },
  {
   "cell_type": "code",
   "execution_count": null,
   "metadata": {},
   "outputs": [],
   "source": [
    "#[1.4600863456726074, 1.4148648977279663, 1.3546310663223267, 1.409367561340332, 1.4308050870895386, 1.8517320156097412, 2.1149449348449707]\n",
    "#[1.4666786193847656, 1.4535043239593506, 1.4496450424194336, 1.4520829916000366, 1.456810474395752, 1.6800751686096191, 1.895699143409729]\n",
    "\n",
    "#[1.408519983291626, 1.3495877981185913, 1.3416342735290527, 1.3801909685134888, 1.3952325582504272, 1.7139472961425781, 2.3904550075531006]\n",
    "#[1.4371708631515503, 1.4092724323272705, 1.3918246030807495, 1.3974816799163818, 1.4379794597625732, 1.5726962089538574, 2.2705795764923096]"
   ]
  },
  {
   "cell_type": "code",
   "execution_count": null,
   "metadata": {},
   "outputs": [
    {
     "data": {
      "image/png": "[encoded data removed]",
      "text/plain": [
       "<Figure size 432x288 with 1 Axes>"
      ]
     },
     "metadata": {
      "needs_background": "light"
     },
     "output_type": "display_data"
    }
   ],
   "source": [
    "import matplotlib.pyplot as plt\n",
    "plt.plot(history.history['loss'])\n",
    "plt.plot(history.history['val_loss'])\n",
    "plt.xlabel('epoch')\n",
    "plt.ylabel('loss')\n",
    "plt.ylim(0,3)\n",
    "plt.legend(['train','val'])\n",
    "plt.show()\n"
   ]
  },
  {
   "cell_type": "code",
   "execution_count": null,
   "metadata": {},
   "outputs": [
    {
     "name": "stdout",
     "output_type": "stream",
     "text": [
      "<class 'numpy.ndarray'>\n",
      "(2924, 1)\n",
      "[[9.990337]\n",
      " [9.990337]\n",
      " [9.990337]\n",
      " [9.990337]\n",
      " [9.990337]\n",
      " [9.990337]\n",
      " [9.990337]\n",
      " [9.990337]\n",
      " [9.990337]\n",
      " [9.990337]]\n"
     ]
    }
   ],
   "source": [
    "ans = model.predict(ques_scaled)\n",
    "print(type(ans))\n",
    "print(ans.shape)\n",
    "print(ans[:10])"
   ]
  },
  {
   "cell_type": "code",
   "execution_count": null,
   "metadata": {},
   "outputs": [],
   "source": [
    "#submission = pd.read_csv(\"E:\\데이콘\\전복나이 예측\\데이터\\sample_submission.csv\")\n",
    "#submission['Target'] = ans\n",
    "#submission.to_csv(\"Submit_11(딥러닝3_mae).csv\",index=False)"
   ]
  }
 ],
 "metadata": {
  "interpreter": {
   "hash": "0acc62e3991d0f967e612eec664f4e3cdc0de12aaa299698365d7f9a254e36c2"
  },
  "kernelspec": {
   "display_name": "Python 3.10.2 64-bit (system)",
   "language": "python",
   "name": "python3"
  },
  "language_info": {
   "codemirror_mode": {
    "name": "ipython",
    "version": 3
   },
   "file_extension": ".py",
   "mimetype": "text/x-python",
   "name": "python",
   "nbconvert_exporter": "python",
   "pygments_lexer": "ipython3",
   "version": "3.10.2"
  },
  "orig_nbformat": 4
 },
 "nbformat": 4,
 "nbformat_minor": 2
}
