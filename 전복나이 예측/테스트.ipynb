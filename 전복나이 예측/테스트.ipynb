{
 "cells": [
  {
   "cell_type": "code",
   "execution_count": 1,
   "metadata": {},
   "outputs": [],
   "source": [
    "#import하기\n",
    "import pandas as pd\n",
    "from sklearn.model_selection import train_test_split\n",
    "from sklearn.preprocessing import PolynomialFeatures\n",
    "from sklearn.preprocessing import StandardScaler\n",
    "from sklearn.linear_model import LinearRegression\n",
    "import matplotlib.pyplot as plt\n",
    "import numpy as np\n",
    "from sklearn.linear_model import Lasso"
   ]
  },
  {
   "cell_type": "code",
   "execution_count": 7,
   "metadata": {},
   "outputs": [
    {
     "name": "stdout",
     "output_type": "stream",
     "text": [
      "Index(['id', 'Gender', 'Lenght', 'Diameter', 'Height', 'Whole Weight',\n",
      "       'Shucked Weight', 'Viscra Weight', 'Shell Weight', 'Target'],\n",
      "      dtype='object')\n"
     ]
    }
   ],
   "source": [
    "#데이터 준비하기 \n",
    "train_data = pd.read_csv(\"E:\\데이콘\\\\전복나이 예측\\\\데이터\\\\train.csv\")\n",
    "print(train_data.columns)\n",
    "train_max_input = train_data[['Gender','Lenght','Diameter','Height','Whole Weight','Shucked Weight','Viscra Weight','Shell Weight']]\n",
    "train_max_target = train_data['Target'].to_numpy()\n",
    "\n",
    "ques_data = pd.read_csv(\"E:\\데이콘\\\\전복나이 예측\\\\데이터\\\\test.csv\")\n",
    "ques_input = ques_data[['Gender','Lenght','Diameter','Height','Whole Weight','Shucked Weight','Viscra Weight','Shell Weight']]\n"
   ]
  },
  {
   "cell_type": "code",
   "execution_count": 8,
   "metadata": {},
   "outputs": [
    {
     "name": "stdout",
     "output_type": "stream",
     "text": [
      "      Lenght  Diameter  Height  Whole Weight  Shucked Weight  Viscra Weight  \\\n",
      "0      0.605     0.470   0.115        1.1140          0.3925         0.2910   \n",
      "1      0.430     0.315   0.095        0.3780          0.1750         0.0800   \n",
      "2      0.580     0.490   0.195        1.3165          0.5305         0.2540   \n",
      "3      0.535     0.405   0.175        1.2705          0.5480         0.3265   \n",
      "4      0.310     0.235   0.090        0.1270          0.0480         0.0310   \n",
      "...      ...       ...     ...           ...             ...            ...   \n",
      "1248   0.190     0.145   0.040        0.0380          0.0165         0.0065   \n",
      "1249   0.395     0.310   0.085        0.3170          0.1530         0.0505   \n",
      "1250   0.525     0.410   0.115        0.7745          0.4160         0.1630   \n",
      "1251   0.445     0.335   0.110        0.4355          0.2025         0.1095   \n",
      "1252   0.750     0.550   0.195        1.8325          0.8300         0.3660   \n",
      "\n",
      "      Shell Weight  Gender_F  Gender_I  Gender_M  \n",
      "0           0.3100         0         0         1  \n",
      "1           0.1045         0         1         0  \n",
      "2           0.4100         0         1         0  \n",
      "3           0.3370         0         0         1  \n",
      "4           0.0400         0         1         0  \n",
      "...            ...       ...       ...       ...  \n",
      "1248        0.0150         0         1         0  \n",
      "1249        0.0935         0         1         0  \n",
      "1250        0.1800         1         0         0  \n",
      "1251        0.1195         1         0         0  \n",
      "1252        0.4400         1         0         0  \n",
      "\n",
      "[1253 rows x 10 columns]\n"
     ]
    }
   ],
   "source": [
    "#성별 원핫 인코딩\n",
    "train_max_input = pd.get_dummies(train_max_input)\n",
    "print(train_max_input)"
   ]
  }
 ],
 "metadata": {
  "interpreter": {
   "hash": "0acc62e3991d0f967e612eec664f4e3cdc0de12aaa299698365d7f9a254e36c2"
  },
  "kernelspec": {
   "display_name": "Python 3.10.2 64-bit (system)",
   "language": "python",
   "name": "python3"
  },
  "language_info": {
   "codemirror_mode": {
    "name": "ipython",
    "version": 3
   },
   "file_extension": ".py",
   "mimetype": "text/x-python",
   "name": "python",
   "nbconvert_exporter": "python",
   "pygments_lexer": "ipython3",
   "version": "3.10.2"
  },
  "orig_nbformat": 4
 },
 "nbformat": 4,
 "nbformat_minor": 2
}
