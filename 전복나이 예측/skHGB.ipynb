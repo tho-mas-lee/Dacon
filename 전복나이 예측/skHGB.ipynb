{
 "cells": [
  {
   "cell_type": "code",
   "execution_count": 1,
   "metadata": {},
   "outputs": [],
   "source": [
    "#import하기\n",
    "import pandas as pd\n",
    "from sklearn.model_selection import train_test_split\n",
    "from sklearn.preprocessing import PolynomialFeatures\n",
    "from sklearn.preprocessing import StandardScaler\n",
    "from sklearn.linear_model import LinearRegression\n",
    "import matplotlib.pyplot as plt\n",
    "import numpy as np"
   ]
  },
  {
   "cell_type": "code",
   "execution_count": 2,
   "metadata": {},
   "outputs": [
    {
     "name": "stdout",
     "output_type": "stream",
     "text": [
      "Index(['id', 'Gender', 'Lenght', 'Diameter', 'Height', 'Whole Weight',\n",
      "       'Shucked Weight', 'Viscra Weight', 'Shell Weight', 'Target'],\n",
      "      dtype='object')\n"
     ]
    }
   ],
   "source": [
    "#데이터 준비하기 \n",
    "train_data = pd.read_csv(\"E:\\데이콘\\\\전복나이 예측\\\\데이터\\\\train.csv\")\n",
    "print(train_data.columns)\n",
    "train_max_input = train_data[['Gender','Lenght','Diameter','Height','Whole Weight','Shucked Weight','Viscra Weight','Shell Weight']]\n",
    "train_max_target = train_data['Target'].to_numpy()\n",
    "\n",
    "ques_data = pd.read_csv(\"E:\\데이콘\\\\전복나이 예측\\\\데이터\\\\test.csv\")\n",
    "ques_input = ques_data[['Gender','Lenght','Diameter','Height','Whole Weight','Shucked Weight','Viscra Weight','Shell Weight']]\n"
   ]
  },
  {
   "cell_type": "code",
   "execution_count": 3,
   "metadata": {},
   "outputs": [],
   "source": [
    "#성별 원핫 인코딩\n",
    "train_max_input = pd.get_dummies(train_max_input)\n",
    "ques_input =pd.get_dummies(ques_input)"
   ]
  },
  {
   "cell_type": "code",
   "execution_count": 4,
   "metadata": {},
   "outputs": [],
   "source": [
    "#훈련세트와 테스트 세트 나누기\n",
    "train_input, test_input, train_target, test_target = train_test_split(train_max_input,train_max_target, test_size=0.2, random_state=42)\n",
    "#다루기 쉽게 데이터프레임 ㅡ> 넘파이 배열\n",
    "train_input = train_input.to_numpy()\n",
    "test_input = test_input.to_numpy()"
   ]
  },
  {
   "cell_type": "code",
   "execution_count": 5,
   "metadata": {},
   "outputs": [
    {
     "name": "stderr",
     "output_type": "stream",
     "text": [
      "C:\\Users\\dlehd\\AppData\\Local\\Programs\\Python\\Python310\\lib\\site-packages\\sklearn\\experimental\\enable_hist_gradient_boosting.py:16: UserWarning: Since version 1.0, it is not needed to import enable_hist_gradient_boosting anymore. HistGradientBoostingClassifier and HistGradientBoostingRegressor are now stable and can be normally imported from sklearn.ensemble.\n",
      "  warnings.warn(\n"
     ]
    },
    {
     "name": "stdout",
     "output_type": "stream",
     "text": [
      "{'learning_rate': 0.01, 'max_iter': 300}\n"
     ]
    }
   ],
   "source": [
    "from sklearn.experimental import enable_hist_gradient_boosting\n",
    "from sklearn.ensemble import HistGradientBoostingRegressor\n",
    "from sklearn.model_selection import GridSearchCV\n",
    "params = {'learning_rate':[0.1,0.2,0.3,0.05,0.01,0.5],'max_iter':[100,200,300,400]}\n",
    "gs = GridSearchCV(HistGradientBoostingRegressor(random_state =42),params,n_jobs=-1)\n",
    "gs.fit(train_input,train_target)\n",
    "dt = gs.best_estimator_\n",
    "print(gs.best_params_)"
   ]
  },
  {
   "cell_type": "code",
   "execution_count": 6,
   "metadata": {},
   "outputs": [
    {
     "name": "stdout",
     "output_type": "stream",
     "text": [
      "[0.42343013 0.37694403 0.34961012 0.33190152 0.3727042  0.3233329\n",
      " 0.30217687 0.29090897 0.34625955 0.30322861 0.29090774 0.28486711\n",
      " 0.46597569 0.42834693 0.40245175 0.38304081 0.42649684 0.48222316\n",
      " 0.48795926 0.48040427 0.28786929 0.26480825 0.25750864 0.25466608]\n"
     ]
    }
   ],
   "source": [
    "print(gs.cv_results_['mean_test_score'])"
   ]
  },
  {
   "cell_type": "code",
   "execution_count": 7,
   "metadata": {},
   "outputs": [
    {
     "name": "stdout",
     "output_type": "stream",
     "text": [
      "0.7274884400431437\n",
      "0.5588244595525652\n"
     ]
    }
   ],
   "source": [
    "print(dt.score(train_input,train_target))\n",
    "print(dt.score(test_input,test_target))"
   ]
  },
  {
   "cell_type": "code",
   "execution_count": 8,
   "metadata": {},
   "outputs": [
    {
     "name": "stdout",
     "output_type": "stream",
     "text": [
      "[ 8.68746527 13.37877024  5.80999798 ...  9.74923415  9.67185296\n",
      " 11.59215695]\n"
     ]
    },
    {
     "name": "stderr",
     "output_type": "stream",
     "text": [
      "C:\\Users\\dlehd\\AppData\\Local\\Programs\\Python\\Python310\\lib\\site-packages\\sklearn\\base.py:443: UserWarning: X has feature names, but HistGradientBoostingRegressor was fitted without feature names\n",
      "  warnings.warn(\n"
     ]
    }
   ],
   "source": [
    "ans=dt.predict(ques_input)\n",
    "print(ans)"
   ]
  },
  {
   "cell_type": "code",
   "execution_count": 9,
   "metadata": {},
   "outputs": [],
   "source": [
    "##파일에 저장\n",
    "#f= open(\"sklearn_HGB_submission.csv\",\"w\")\n",
    "#id = range(1,2925)\n",
    "#for i in id:\n",
    "#    f.write(str(i) + ',' + str(ans[i-1]) + '\\n')\n",
    "#f.close()"
   ]
  },
  {
   "cell_type": "code",
   "execution_count": 10,
   "metadata": {},
   "outputs": [
    {
     "name": "stdout",
     "output_type": "stream",
     "text": [
      "[10.98754627 12.13225479 10.03639702  8.83796795 12.51326575 11.09321849\n",
      "  9.40868013  9.57890097  7.43656984 13.3697146 ]\n",
      "[ 8 13 13  9 13 14 10  9  6 13]\n",
      "0.15042804728903386\n"
     ]
    }
   ],
   "source": [
    "#예상 평가 점수 만들어보기\n",
    "def NMAE(true, pred):\n",
    "    mae = np.mean(np.abs(true-pred))\n",
    "    score = mae / np.mean(np.abs(true))\n",
    "    return score\n",
    "pred = dt.predict(test_input)\n",
    "print(pred[:10])\n",
    "print(test_target[:10])\n",
    "\n",
    "print(NMAE(test_target,np.around(pred)))"
   ]
  }
 ],
 "metadata": {
  "interpreter": {
   "hash": "0acc62e3991d0f967e612eec664f4e3cdc0de12aaa299698365d7f9a254e36c2"
  },
  "kernelspec": {
   "display_name": "Python 3.10.2 64-bit (system)",
   "language": "python",
   "name": "python3"
  },
  "language_info": {
   "codemirror_mode": {
    "name": "ipython",
    "version": 3
   },
   "file_extension": ".py",
   "mimetype": "text/x-python",
   "name": "python",
   "nbconvert_exporter": "python",
   "pygments_lexer": "ipython3",
   "version": "3.10.2"
  },
  "orig_nbformat": 4
 },
 "nbformat": 4,
 "nbformat_minor": 2
}
