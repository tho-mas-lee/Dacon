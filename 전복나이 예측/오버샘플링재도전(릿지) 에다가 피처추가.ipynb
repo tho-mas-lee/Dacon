{
 "cells": [
  {
   "cell_type": "code",
   "execution_count": 667,
   "metadata": {},
   "outputs": [],
   "source": [
    "#데이터 준비하기 \n",
    "import pandas as pd\n",
    "\n",
    "train_data = pd.read_csv(\"E:\\데이콘\\\\전복나이 예측\\\\데이터\\\\train.csv\")\n",
    "\n",
    "ques_data = pd.read_csv(\"E:\\데이콘\\\\전복나이 예측\\\\데이터\\\\test.csv\")"
   ]
  },
  {
   "cell_type": "code",
   "execution_count": 668,
   "metadata": {},
   "outputs": [
    {
     "name": "stdout",
     "output_type": "stream",
     "text": [
      "(1253, 10)\n"
     ]
    }
   ],
   "source": [
    "print(train_data.shape)\n",
    "train_data.drop(index=762,axis =0,inplace= True)\n",
    "train_data.drop(index=465,axis =0,inplace= True)\n",
    "train_data.drop(index=47,axis =0,inplace= True)\n",
    "train_data.drop(index=382,axis =0,inplace= True)\n",
    "train_data.drop(index=435,axis =0,inplace= True)\n",
    "train_data.drop(index=1078,axis =0,inplace= True)"
   ]
  },
  {
   "cell_type": "code",
   "execution_count": 669,
   "metadata": {},
   "outputs": [],
   "source": [
    "#water = 전체무게 -(껍질무게+껍질을 제외한 무게) 보다 ratio=껍질을 제외한 무게/전체 무게 \n",
    "water_train = train_data['Whole Weight'] -train_data['Shucked Weight']\n",
    "water_ques = ques_data['Whole Weight'] -ques_data['Shucked Weight']"
   ]
  },
  {
   "cell_type": "code",
   "execution_count": 670,
   "metadata": {},
   "outputs": [],
   "source": [
    "#train_data['Water'] = water_train\n",
    "#ques_data['Water'] = water_ques"
   ]
  },
  {
   "cell_type": "code",
   "execution_count": 671,
   "metadata": {},
   "outputs": [
    {
     "name": "stdout",
     "output_type": "stream",
     "text": [
      "   id Gender  Lenght  Diameter  Height  Whole Weight  Shucked Weight  \\\n",
      "0   1      M   0.605     0.470   0.115        1.1140          0.3925   \n",
      "1   2      I   0.430     0.315   0.095        0.3780          0.1750   \n",
      "2   3      I   0.580     0.490   0.195        1.3165          0.5305   \n",
      "3   4      M   0.535     0.405   0.175        1.2705          0.5480   \n",
      "4   5      I   0.310     0.235   0.090        0.1270          0.0480   \n",
      "\n",
      "   Viscra Weight  Shell Weight  Target     Ratio  \n",
      "0         0.2910        0.3100      15  0.352334  \n",
      "1         0.0800        0.1045       8  0.462963  \n",
      "2         0.2540        0.4100      18  0.402962  \n",
      "3         0.3265        0.3370      13  0.431326  \n",
      "4         0.0310        0.0400       6  0.377953  \n"
     ]
    },
    {
     "data": {
      "text/html": [
       "<div>\n",
       "<style scoped>\n",
       "    .dataframe tbody tr th:only-of-type {\n",
       "        vertical-align: middle;\n",
       "    }\n",
       "\n",
       "    .dataframe tbody tr th {\n",
       "        vertical-align: top;\n",
       "    }\n",
       "\n",
       "    .dataframe thead th {\n",
       "        text-align: right;\n",
       "    }\n",
       "</style>\n",
       "<table border=\"1\" class=\"dataframe\">\n",
       "  <thead>\n",
       "    <tr style=\"text-align: right;\">\n",
       "      <th></th>\n",
       "      <th>id</th>\n",
       "      <th>Gender</th>\n",
       "      <th>Lenght</th>\n",
       "      <th>Diameter</th>\n",
       "      <th>Height</th>\n",
       "      <th>Whole Weight</th>\n",
       "      <th>Shucked Weight</th>\n",
       "      <th>Viscra Weight</th>\n",
       "      <th>Shell Weight</th>\n",
       "      <th>Ratio</th>\n",
       "    </tr>\n",
       "  </thead>\n",
       "  <tbody>\n",
       "    <tr>\n",
       "      <th>0</th>\n",
       "      <td>1</td>\n",
       "      <td>F</td>\n",
       "      <td>0.595</td>\n",
       "      <td>0.470</td>\n",
       "      <td>0.155</td>\n",
       "      <td>1.121</td>\n",
       "      <td>0.4515</td>\n",
       "      <td>0.1780</td>\n",
       "      <td>0.1550</td>\n",
       "      <td>0.402765</td>\n",
       "    </tr>\n",
       "    <tr>\n",
       "      <th>1</th>\n",
       "      <td>2</td>\n",
       "      <td>M</td>\n",
       "      <td>0.580</td>\n",
       "      <td>0.450</td>\n",
       "      <td>0.150</td>\n",
       "      <td>0.927</td>\n",
       "      <td>0.2760</td>\n",
       "      <td>0.1815</td>\n",
       "      <td>0.3600</td>\n",
       "      <td>0.297735</td>\n",
       "    </tr>\n",
       "    <tr>\n",
       "      <th>2</th>\n",
       "      <td>3</td>\n",
       "      <td>I</td>\n",
       "      <td>0.260</td>\n",
       "      <td>0.205</td>\n",
       "      <td>0.070</td>\n",
       "      <td>0.097</td>\n",
       "      <td>0.0415</td>\n",
       "      <td>0.0190</td>\n",
       "      <td>0.0305</td>\n",
       "      <td>0.427835</td>\n",
       "    </tr>\n",
       "    <tr>\n",
       "      <th>3</th>\n",
       "      <td>4</td>\n",
       "      <td>M</td>\n",
       "      <td>0.590</td>\n",
       "      <td>0.460</td>\n",
       "      <td>0.130</td>\n",
       "      <td>1.102</td>\n",
       "      <td>0.4550</td>\n",
       "      <td>0.2055</td>\n",
       "      <td>0.3300</td>\n",
       "      <td>0.412886</td>\n",
       "    </tr>\n",
       "    <tr>\n",
       "      <th>4</th>\n",
       "      <td>5</td>\n",
       "      <td>F</td>\n",
       "      <td>0.595</td>\n",
       "      <td>0.465</td>\n",
       "      <td>0.140</td>\n",
       "      <td>1.113</td>\n",
       "      <td>0.5175</td>\n",
       "      <td>0.2440</td>\n",
       "      <td>0.3050</td>\n",
       "      <td>0.464960</td>\n",
       "    </tr>\n",
       "  </tbody>\n",
       "</table>\n",
       "</div>"
      ],
      "text/plain": [
       "   id Gender  Lenght  Diameter  Height  Whole Weight  Shucked Weight  \\\n",
       "0   1      F   0.595     0.470   0.155         1.121          0.4515   \n",
       "1   2      M   0.580     0.450   0.150         0.927          0.2760   \n",
       "2   3      I   0.260     0.205   0.070         0.097          0.0415   \n",
       "3   4      M   0.590     0.460   0.130         1.102          0.4550   \n",
       "4   5      F   0.595     0.465   0.140         1.113          0.5175   \n",
       "\n",
       "   Viscra Weight  Shell Weight     Ratio  \n",
       "0         0.1780        0.1550  0.402765  \n",
       "1         0.1815        0.3600  0.297735  \n",
       "2         0.0190        0.0305  0.427835  \n",
       "3         0.2055        0.3300  0.412886  \n",
       "4         0.2440        0.3050  0.464960  "
      ]
     },
     "execution_count": 671,
     "metadata": {},
     "output_type": "execute_result"
    }
   ],
   "source": [
    "Ratio_train =  train_data['Shucked Weight']/train_data['Whole Weight'] \n",
    "Ratio_ques =  ques_data['Shucked Weight']/ques_data['Whole Weight'] \n",
    "train_data['Ratio'] = Ratio_train\n",
    "ques_data['Ratio'] = Ratio_ques\n",
    "print(train_data.head())\n",
    "ques_data.head()"
   ]
  },
  {
   "cell_type": "code",
   "execution_count": 672,
   "metadata": {},
   "outputs": [],
   "source": [
    "ques_input = ques_data.drop(['id'], axis=1)\n",
    "train_max_input = train_data.drop(['id', 'Target'], axis=1)\n",
    "train_max_target = train_data['Target']"
   ]
  },
  {
   "cell_type": "code",
   "execution_count": 673,
   "metadata": {},
   "outputs": [
    {
     "name": "stdout",
     "output_type": "stream",
     "text": [
      "<class 'pandas.core.frame.DataFrame'>\n",
      "<class 'pandas.core.series.Series'>\n",
      "<class 'pandas.core.frame.DataFrame'>\n",
      "[['M' 0.605 0.47 ... 0.291 0.31 0.3523339317773788]\n",
      " ['I' 0.43 0.315 ... 0.08 0.1045 0.4629629629629629]\n",
      " ['I' 0.58 0.49 ... 0.254 0.41 0.4029624003038359]\n",
      " ...\n",
      " ['F' 0.525 0.41 ... 0.163 0.18 0.5371207230471272]\n",
      " ['F' 0.445 0.335 ... 0.1095 0.1195 0.46498277841561425]\n",
      " ['F' 0.75 0.55 ... 0.366 0.44 0.45293315143246926]]\n",
      "Index(['Gender', 'Lenght', 'Diameter', 'Height', 'Whole Weight',\n",
      "       'Shucked Weight', 'Viscra Weight', 'Shell Weight', 'Ratio'],\n",
      "      dtype='object')\n",
      "0        True\n",
      "1       False\n",
      "2       False\n",
      "3        True\n",
      "4       False\n",
      "        ...  \n",
      "1248    False\n",
      "1249    False\n",
      "1250    False\n",
      "1251    False\n",
      "1252    False\n",
      "Name: Gender, Length: 1247, dtype: bool\n"
     ]
    }
   ],
   "source": [
    "print(type(train_max_input))\n",
    "print(type(train_max_target))\n",
    "print(type(ques_input))\n",
    "print(train_max_input.to_numpy())\n",
    "print(train_max_input.columns)\n",
    "print(train_max_input['Gender']=='M')"
   ]
  },
  {
   "cell_type": "code",
   "execution_count": 674,
   "metadata": {},
   "outputs": [
    {
     "data": {
      "image/png": "[encoded data removed]",
      "text/plain": [
       "<Figure size 432x288 with 1 Axes>"
      ]
     },
     "metadata": {
      "needs_background": "light"
     },
     "output_type": "display_data"
    },
    {
     "data": {
      "image/png": "[encoded data removed]",
      "text/plain": [
       "<Figure size 432x288 with 1 Axes>"
      ]
     },
     "metadata": {
      "needs_background": "light"
     },
     "output_type": "display_data"
    },
    {
     "data": {
      "image/png": "[encoded data removed]",
      "text/plain": [
       "<Figure size 432x288 with 1 Axes>"
      ]
     },
     "metadata": {
      "needs_background": "light"
     },
     "output_type": "display_data"
    },
    {
     "data": {
      "image/png": "[encoded data removed]",
      "text/plain": [
       "<Figure size 432x288 with 1 Axes>"
      ]
     },
     "metadata": {
      "needs_background": "light"
     },
     "output_type": "display_data"
    },
    {
     "data": {
      "image/png": "[encoded data removed]",
      "text/plain": [
       "<Figure size 432x288 with 1 Axes>"
      ]
     },
     "metadata": {
      "needs_background": "light"
     },
     "output_type": "display_data"
    },
    {
     "data": {
      "image/png": "[encoded data removed]",
      "text/plain": [
       "<Figure size 432x288 with 1 Axes>"
      ]
     },
     "metadata": {
      "needs_background": "light"
     },
     "output_type": "display_data"
    },
    {
     "data": {
      "image/png": "[encoded data removed]",
      "text/plain": [
       "<Figure size 432x288 with 1 Axes>"
      ]
     },
     "metadata": {
      "needs_background": "light"
     },
     "output_type": "display_data"
    },
    {
     "data": {
      "image/png": "[encoded data removed]",
      "text/plain": [
       "<Figure size 432x288 with 1 Axes>"
      ]
     },
     "metadata": {
      "needs_background": "light"
     },
     "output_type": "display_data"
    },
    {
     "data": {
      "image/png": "[encoded data removed]",
      "text/plain": [
       "<Figure size 432x288 with 1 Axes>"
      ]
     },
     "metadata": {
      "needs_background": "light"
     },
     "output_type": "display_data"
    }
   ],
   "source": [
    "import matplotlib.pyplot as plt\n",
    "i=1\n",
    "for column in train_max_input.columns:\n",
    "    if column == 'Gender':\n",
    "        plt.violinplot([train_max_target[train_max_input[column]=='M'],train_max_target[train_max_input[column]=='I'],train_max_target[train_max_input[column]=='F']])\n",
    "        plt.xlabel(\"Gender M  I  F\")\n",
    "        plt.ylabel('target')\n",
    "        plt.show()\n",
    "    else:\n",
    "        plt.scatter(train_max_input[column],train_max_target)\n",
    "        plt.xlabel(column)\n",
    "        plt.ylabel('target')\n",
    "        plt.show()"
   ]
  },
  {
   "cell_type": "code",
   "execution_count": 675,
   "metadata": {},
   "outputs": [
    {
     "name": "stdout",
     "output_type": "stream",
     "text": [
      "823\n",
      "349\n",
      "75\n"
     ]
    },
    {
     "data": {
      "image/png": "[encoded data removed]",
      "text/plain": [
       "<Figure size 432x288 with 1 Axes>"
      ]
     },
     "metadata": {
      "needs_background": "light"
     },
     "output_type": "display_data"
    }
   ],
   "source": [
    "import numpy as np\n",
    "print(np.sum(train_max_target<=10))\n",
    "print(np.sum(train_max_target<=15) -np.sum(train_max_target<=10) )\n",
    "print(np.sum(15<train_max_target))\n",
    "plt.violinplot(train_max_target)\n",
    "plt.show()\n"
   ]
  },
  {
   "cell_type": "code",
   "execution_count": 676,
   "metadata": {},
   "outputs": [
    {
     "name": "stdout",
     "output_type": "stream",
     "text": [
      "(1247, 9)\n",
      "(1247, 9)\n",
      "(1247,)\n"
     ]
    }
   ],
   "source": [
    "\n",
    "print(train_max_input.shape)\n",
    "#train_max_input.drop(index = [train_max_target>25], axis = 0)\n",
    "train_max_input[train_max_target>25]\n",
    "print(train_max_input.shape)\n",
    "print(train_max_target.shape)"
   ]
  },
  {
   "cell_type": "code",
   "execution_count": 677,
   "metadata": {},
   "outputs": [
    {
     "data": {
      "image/png": "[encoded data removed]",
      "text/plain": [
       "<Figure size 432x288 with 1 Axes>"
      ]
     },
     "metadata": {
      "needs_background": "light"
     },
     "output_type": "display_data"
    }
   ],
   "source": [
    "plt.violinplot(train_max_target)\n",
    "plt.show()"
   ]
  },
  {
   "cell_type": "code",
   "execution_count": 678,
   "metadata": {},
   "outputs": [
    {
     "name": "stdout",
     "output_type": "stream",
     "text": [
      "55\n",
      "1049\n",
      "143\n"
     ]
    }
   ],
   "source": [
    "print(np.sum(train_max_target<=5))\n",
    "print(np.sum(train_max_target<=13) -np.sum(train_max_target<=5) )\n",
    "print(np.sum(13<train_max_target))"
   ]
  },
  {
   "cell_type": "code",
   "execution_count": 679,
   "metadata": {},
   "outputs": [],
   "source": [
    "# 그전에 훈련세트 나누기\n",
    "#import하기\n",
    "import pandas as pd\n",
    "from sklearn.model_selection import train_test_split\n",
    "from sklearn.preprocessing import PolynomialFeatures\n",
    "from sklearn.preprocessing import StandardScaler\n",
    "from sklearn.linear_model import LinearRegression\n",
    "import matplotlib.pyplot as plt\n",
    "import numpy as np\n",
    "from sklearn.linear_model import Ridge"
   ]
  },
  {
   "cell_type": "code",
   "execution_count": 680,
   "metadata": {},
   "outputs": [],
   "source": [
    "train_max_input = pd.get_dummies(train_max_input)\n",
    "ques_input =pd.get_dummies(ques_input)"
   ]
  },
  {
   "cell_type": "code",
   "execution_count": 681,
   "metadata": {},
   "outputs": [
    {
     "name": "stdout",
     "output_type": "stream",
     "text": [
      "(997, 11)\n",
      "(250, 11)\n",
      "(1247, 11)\n"
     ]
    }
   ],
   "source": [
    "#훈련세트와 테스트 세트 나누기\n",
    "train_input, test_input, train_target, test_target = train_test_split(train_max_input,train_max_target, test_size=0.2, random_state=30)\n",
    "print(train_input.shape)\n",
    "print(test_input.shape)\n",
    "print(train_max_input.shape)"
   ]
  },
  {
   "cell_type": "code",
   "execution_count": 682,
   "metadata": {},
   "outputs": [
    {
     "name": "stdout",
     "output_type": "stream",
     "text": [
      "(997, 11)\n",
      "(797, 11)\n",
      "(200, 11)\n"
     ]
    }
   ],
   "source": [
    "#훈련세트랑 검증세트도\n",
    "sub_input, val_input,sub_target, val_target = train_test_split(train_input,train_target, test_size=0.2,random_state=30)\n",
    "print(train_input.shape)\n",
    "print(sub_input.shape)\n",
    "print(val_input.shape)"
   ]
  },
  {
   "cell_type": "markdown",
   "metadata": {},
   "source": [
    "5보다 작은거랑 13보다 큰거 오버 샘플링 하겠음"
   ]
  },
  {
   "cell_type": "code",
   "execution_count": 683,
   "metadata": {},
   "outputs": [],
   "source": [
    "T_range = []\n",
    "for i in sub_target:\n",
    "    if i<=5 :\n",
    "        T_range.append(1)\n",
    "    elif i <=9:\n",
    "        T_range.append(2)\n",
    "    elif i<=15:\n",
    "        T_range.append(3)\n",
    "    else:\n",
    "        T_range.append(4)"
   ]
  },
  {
   "cell_type": "code",
   "execution_count": 684,
   "metadata": {},
   "outputs": [
    {
     "name": "stdout",
     "output_type": "stream",
     "text": [
      "[31, 347, 372, 47]\n"
     ]
    },
    {
     "data": {
      "image/png": "[encoded data removed]",
      "text/plain": [
       "<Figure size 432x288 with 1 Axes>"
      ]
     },
     "metadata": {
      "needs_background": "light"
     },
     "output_type": "display_data"
    }
   ],
   "source": [
    "T_range =np.array(T_range)\n",
    "T_range_x = ['5','5-9','9-15','15-']\n",
    "T_range_y =[np.sum(T_range==1),np.sum(T_range==2),np.sum(T_range==3),np.sum(T_range==4)]\n",
    "print(T_range_y)\n",
    "plt.bar(T_range_x,T_range_y)\n",
    "plt.show()"
   ]
  },
  {
   "cell_type": "code",
   "execution_count": 685,
   "metadata": {},
   "outputs": [
    {
     "name": "stdout",
     "output_type": "stream",
     "text": [
      "(200, 11)\n",
      "(983, 11)\n",
      "      Lenght  Diameter  Height  Whole Weight  Shucked Weight  Viscra Weight  \\\n",
      "52     0.655     0.540   0.175        1.5585          0.7285         0.4020   \n",
      "1211   0.560     0.445   0.165        0.8320          0.3455         0.1790   \n",
      "1020   0.620     0.480   0.165        1.0125          0.5325         0.4365   \n",
      "67     0.510     0.400   0.125        0.5575          0.2615         0.1195   \n",
      "1053   0.495     0.400   0.155        0.8085          0.2345         0.1155   \n",
      "...      ...       ...     ...           ...             ...            ...   \n",
      "323    0.345     0.255   0.085        0.2005          0.1050         0.0370   \n",
      "1197   0.300     0.225   0.075        0.1345          0.0570         0.0280   \n",
      "73     0.245     0.180   0.065        0.0710          0.0300         0.0130   \n",
      "1112   0.205     0.150   0.055        0.0420          0.0255         0.0150   \n",
      "179    0.215     0.155   0.060        0.0525          0.0210         0.0165   \n",
      "\n",
      "      Shell Weight     Ratio  Gender_F  Gender_I  Gender_M  \n",
      "52          0.3850  0.467437         1         0         0  \n",
      "1211        0.2790  0.415264         0         1         0  \n",
      "1020        0.3240  0.525926         1         0         0  \n",
      "67          0.1525  0.469058         0         1         0  \n",
      "1053        0.3500  0.290043         0         0         1  \n",
      "...            ...       ...       ...       ...       ...  \n",
      "323         0.0500  0.523691         0         1         0  \n",
      "1197        0.0440  0.423792         0         1         0  \n",
      "73          0.0215  0.422535         0         1         0  \n",
      "1112        0.0120  0.607143         0         1         0  \n",
      "179         0.0150  0.400000         0         1         0  \n",
      "\n",
      "[983 rows x 11 columns]\n"
     ]
    }
   ],
   "source": [
    "print(val_input.shape)\n",
    "sub_T1 =sub_input[T_range==1]\n",
    "sub_T4 =sub_input[T_range==4]\n",
    "sub_target_T1 =sub_target[T_range==1]\n",
    "sub_target_T4 =sub_target[T_range==4]\n",
    "for i in range(0,6):\n",
    "    sub_input = pd.concat([sub_input,sub_T1],axis=0)\n",
    "    sub_target =pd.concat([sub_target,sub_target_T1])\n",
    "for i in range(0,0):\n",
    "    sub_input =pd.concat([sub_input,sub_T4],axis=0)\n",
    "    sub_target =pd.concat([sub_target,sub_target_T4])\n",
    "print(sub_input.shape)\n",
    "print(sub_input)\n",
    "    "
   ]
  },
  {
   "cell_type": "code",
   "execution_count": 686,
   "metadata": {},
   "outputs": [
    {
     "name": "stdout",
     "output_type": "stream",
     "text": [
      "[217, 347, 372, 47]\n"
     ]
    },
    {
     "data": {
      "image/png": "[encoded data removed]",
      "text/plain": [
       "<Figure size 432x288 with 1 Axes>"
      ]
     },
     "metadata": {
      "needs_background": "light"
     },
     "output_type": "display_data"
    }
   ],
   "source": [
    "T_range = []\n",
    "for i in sub_target:\n",
    "    if i<=5 :\n",
    "        T_range.append(1)\n",
    "    elif i <=9:\n",
    "        T_range.append(2)\n",
    "    elif i<=15:\n",
    "        T_range.append(3)\n",
    "    else:\n",
    "        T_range.append(4)\n",
    "\n",
    "T_range =np.array(T_range)\n",
    "T_range_x = ['5','5-9','9-15','15-']\n",
    "T_range_y =[np.sum(T_range==1),np.sum(T_range==2),np.sum(T_range==3),np.sum(T_range==4)]\n",
    "print(T_range_y)\n",
    "plt.bar(T_range_x,T_range_y)\n",
    "plt.show()"
   ]
  },
  {
   "cell_type": "code",
   "execution_count": 687,
   "metadata": {},
   "outputs": [
    {
     "name": "stdout",
     "output_type": "stream",
     "text": [
      "(1247, 11) =\n",
      "(997, 11) +\n",
      "(250, 11) =\n",
      "(983, 11) 많음\n",
      "(200, 11)\n"
     ]
    }
   ],
   "source": [
    "print(train_max_input.shape, '=')\n",
    "print(train_input.shape,'+')\n",
    "print(test_input.shape,'=')\n",
    "print(sub_input.shape,'많음')\n",
    "print(val_input.shape)"
   ]
  },
  {
   "cell_type": "code",
   "execution_count": 688,
   "metadata": {},
   "outputs": [],
   "source": [
    "\n",
    "ques_input =ques_input.to_numpy()\n",
    "sub_target=sub_target.to_numpy()\n",
    "sub_input =sub_input.to_numpy()\n",
    "val_target=val_target.to_numpy()\n",
    "val_input =val_input.to_numpy()"
   ]
  },
  {
   "cell_type": "code",
   "execution_count": 689,
   "metadata": {},
   "outputs": [
    {
     "name": "stderr",
     "output_type": "stream",
     "text": [
      "C:\\Users\\dlehd\\AppData\\Local\\Programs\\Python\\Python310\\lib\\site-packages\\sklearn\\base.py:443: UserWarning: X has feature names, but PolynomialFeatures was fitted without feature names\n",
      "  warnings.warn(\n",
      "C:\\Users\\dlehd\\AppData\\Local\\Programs\\Python\\Python310\\lib\\site-packages\\sklearn\\base.py:443: UserWarning: X has feature names, but PolynomialFeatures was fitted without feature names\n",
      "  warnings.warn(\n"
     ]
    }
   ],
   "source": [
    "#특성공학으로 특성 늘리기\n",
    "poly = PolynomialFeatures(degree=2,include_bias= False)\n",
    "poly.fit(sub_input)\n",
    "train_poly=poly.transform(train_input)\n",
    "test_poly = poly.transform(test_input)\n",
    "sub_poly=poly.transform(sub_input)\n",
    "val_poly = poly.transform(val_input)\n",
    "\n",
    "ques_poly = poly.transform(ques_input)"
   ]
  },
  {
   "cell_type": "code",
   "execution_count": 690,
   "metadata": {},
   "outputs": [],
   "source": [
    "#규제 전 전처리 과정\n",
    "from sklearn.preprocessing import StandardScaler\n",
    "ss= StandardScaler()\n",
    "ss.fit(sub_poly)\n",
    "train_scaled = ss.transform(train_poly)\n",
    "sub_scaled = ss.transform(sub_poly)\n",
    "val_scaled = ss.transform(val_poly)\n",
    "\n",
    "ques_scaled = ss.transform(ques_poly)\n",
    "test_scaled = ss.transform(test_poly)"
   ]
  },
  {
   "cell_type": "code",
   "execution_count": 691,
   "metadata": {},
   "outputs": [
    {
     "name": "stdout",
     "output_type": "stream",
     "text": [
      "(1577, 77) =\n",
      "(997, 77) +\n",
      "(250, 77) =\n",
      "(983, 77)\n",
      "(200, 77)\n"
     ]
    }
   ],
   "source": [
    "print(train_max_scaled.shape, '=')\n",
    "print(train_scaled.shape,'+')\n",
    "print(test_scaled.shape,'=')\n",
    "print(sub_scaled.shape)\n",
    "print(val_scaled.shape)"
   ]
  },
  {
   "cell_type": "code",
   "execution_count": 692,
   "metadata": {},
   "outputs": [
    {
     "name": "stdout",
     "output_type": "stream",
     "text": [
      "0.7132588259848998\n",
      "0.5492876157672912\n"
     ]
    }
   ],
   "source": [
    "#릿지 규제\n",
    "ridge = Ridge()\n",
    "ridge.fit(sub_scaled, sub_target)\n",
    "print(ridge.score(sub_scaled,sub_target))\n",
    "print(ridge.score(val_scaled,val_target))"
   ]
  },
  {
   "cell_type": "code",
   "execution_count": 693,
   "metadata": {},
   "outputs": [],
   "source": [
    "sub_scores =[]\n",
    "val_scores = []"
   ]
  },
  {
   "cell_type": "code",
   "execution_count": 694,
   "metadata": {},
   "outputs": [
    {
     "name": "stdout",
     "output_type": "stream",
     "text": [
      "[0.7260659270018378, 0.7258804273228607, 0.7249141242238657, 0.7214752000098981, 0.7132588259848998, 0.7013266887205444, 0.6681977308373221, 0.6249935013963765, 0.4845093769858386]\n",
      "[0.5133247169546207, 0.5123482565018873, 0.5107857988006326, 0.5243204461919788, 0.5492876157672912, 0.5598032167797737, 0.5485730566550819, 0.5166284314390202, 0.3733327641970837]\n",
      "-----------------------------\n",
      "0.5598032167797737\n",
      "10\n"
     ]
    }
   ],
   "source": [
    "#최적의 alpha값 찾기\n",
    "alpha_list = [0.0001,0.001,0.01,0.1,1,10,100,1000,10000]\n",
    "for alpha in alpha_list:\n",
    "    ridge= Ridge(alpha=alpha)\n",
    "    ridge.fit(sub_scaled, sub_target)\n",
    "    sub_scores.append(ridge.score(sub_scaled,sub_target))\n",
    "    val_scores.append(ridge.score(val_scaled,val_target))\n",
    "    \n",
    "print(sub_scores)\n",
    "print(val_scores)\n",
    "print('-----------------------------')\n",
    "print(np.max(val_scores))\n",
    "print(alpha_list[np.argmax(val_scores)])"
   ]
  },
  {
   "cell_type": "code",
   "execution_count": 695,
   "metadata": {},
   "outputs": [
    {
     "data": {
      "image/png": "[encoded data removed]",
      "text/plain": [
       "<Figure size 432x288 with 1 Axes>"
      ]
     },
     "metadata": {
      "needs_background": "light"
     },
     "output_type": "display_data"
    }
   ],
   "source": [
    "plt.plot(np.log10(alpha_list),sub_scores)\n",
    "plt.plot(np.log10(alpha_list),val_scores)\n",
    "plt.ylim(0, 1)\n",
    "plt.xlabel('alpha')\n",
    "plt.ylabel('R^2')\n",
    "plt.legend(['sub','val'])\n",
    "plt.show()"
   ]
  },
  {
   "cell_type": "code",
   "execution_count": 696,
   "metadata": {},
   "outputs": [
    {
     "name": "stdout",
     "output_type": "stream",
     "text": [
      "0.7013266887205444\n",
      "0.6110122340653301\n"
     ]
    }
   ],
   "source": [
    "#최종 확인\n",
    "ridge =Ridge(alpha=10)\n",
    "ridge.fit(sub_scaled,sub_target)\n",
    "print(ridge.score(sub_scaled,sub_target))\n",
    "print(ridge.score(test_scaled,test_target))"
   ]
  },
  {
   "cell_type": "markdown",
   "metadata": {},
   "source": [
    "그럼 이제 전체 트레인을 오버샘플링해서 넣어줘야 함."
   ]
  },
  {
   "cell_type": "code",
   "execution_count": 697,
   "metadata": {},
   "outputs": [
    {
     "name": "stdout",
     "output_type": "stream",
     "text": [
      "(997, 77)\n",
      "(983, 77)\n",
      "(200, 77)\n",
      "(250, 77)\n",
      "(1247, 11)\n",
      "(1247,)\n"
     ]
    }
   ],
   "source": [
    "print(train_scaled.shape)\n",
    "print(sub_scaled.shape)\n",
    "print(val_scaled.shape)\n",
    "print(test_scaled.shape)\n",
    "print(train_max_input.shape)\n",
    "print(train_max_target.shape)"
   ]
  },
  {
   "cell_type": "code",
   "execution_count": 698,
   "metadata": {},
   "outputs": [],
   "source": [
    "T_range = []\n",
    "for i in train_max_target:\n",
    "    if i<=5 :\n",
    "        T_range.append(1)\n",
    "    elif i <=9:\n",
    "        T_range.append(2)\n",
    "    elif i<=15:\n",
    "        T_range.append(3)\n",
    "    else:\n",
    "        T_range.append(4)"
   ]
  },
  {
   "cell_type": "code",
   "execution_count": 699,
   "metadata": {},
   "outputs": [
    {
     "name": "stdout",
     "output_type": "stream",
     "text": [
      "[55, 566, 551, 75]\n"
     ]
    },
    {
     "data": {
      "image/png": "[encoded data removed]",
      "text/plain": [
       "<Figure size 432x288 with 1 Axes>"
      ]
     },
     "metadata": {
      "needs_background": "light"
     },
     "output_type": "display_data"
    }
   ],
   "source": [
    "T_range =np.array(T_range)\n",
    "T_range_x = ['5','5-9','9-15','15-']\n",
    "T_range_y =[np.sum(T_range==1),np.sum(T_range==2),np.sum(T_range==3),np.sum(T_range==4)]\n",
    "print(T_range_y)\n",
    "plt.bar(T_range_x,T_range_y)\n",
    "plt.show()"
   ]
  },
  {
   "cell_type": "code",
   "execution_count": null,
   "metadata": {},
   "outputs": [],
   "source": []
  },
  {
   "cell_type": "code",
   "execution_count": 700,
   "metadata": {},
   "outputs": [
    {
     "name": "stdout",
     "output_type": "stream",
     "text": [
      "(200, 11)\n",
      "(1577, 11)\n",
      "      Lenght  Diameter  Height  Whole Weight  Shucked Weight  Viscra Weight  \\\n",
      "0      0.605     0.470   0.115        1.1140          0.3925         0.2910   \n",
      "1      0.430     0.315   0.095        0.3780          0.1750         0.0800   \n",
      "2      0.580     0.490   0.195        1.3165          0.5305         0.2540   \n",
      "3      0.535     0.405   0.175        1.2705          0.5480         0.3265   \n",
      "4      0.310     0.235   0.090        0.1270          0.0480         0.0310   \n",
      "...      ...       ...     ...           ...             ...            ...   \n",
      "1112   0.205     0.150   0.055        0.0420          0.0255         0.0150   \n",
      "1126   0.395     0.295   0.090        0.3025          0.1430         0.0665   \n",
      "1197   0.300     0.225   0.075        0.1345          0.0570         0.0280   \n",
      "1203   0.235     0.160   0.040        0.0480          0.0185         0.0180   \n",
      "1248   0.190     0.145   0.040        0.0380          0.0165         0.0065   \n",
      "\n",
      "      Shell Weight     Ratio  Gender_F  Gender_I  Gender_M  \n",
      "0           0.3100  0.352334         0         0         1  \n",
      "1           0.1045  0.462963         0         1         0  \n",
      "2           0.4100  0.402962         0         1         0  \n",
      "3           0.3370  0.431326         0         0         1  \n",
      "4           0.0400  0.377953         0         1         0  \n",
      "...            ...       ...       ...       ...       ...  \n",
      "1112        0.0120  0.607143         0         1         0  \n",
      "1126        0.0765  0.472727         0         1         0  \n",
      "1197        0.0440  0.423792         0         1         0  \n",
      "1203        0.0150  0.385417         0         1         0  \n",
      "1248        0.0150  0.434211         0         1         0  \n",
      "\n",
      "[1577 rows x 11 columns]\n"
     ]
    }
   ],
   "source": [
    "print(val_input.shape)\n",
    "train_max_T1 =train_max_input[T_range==1]\n",
    "train_max_T4 =train_max_input[T_range==4]\n",
    "train_max_target_T1 =train_max_target[T_range==1]\n",
    "train_max_target_T4 =train_max_target[T_range==4]\n",
    "for i in range(0,6):\n",
    "    train_max_input = pd.concat([train_max_input,train_max_T1],axis=0)\n",
    "    train_max_target =pd.concat([train_max_target,train_max_target_T1])\n",
    "for i in range(0,0):\n",
    "    train_max_input =pd.concat([train_max_input,train_max_T4],axis=0)\n",
    "    train_max_target =pd.concat([train_max_target,train_max_target_T4])\n",
    "print(train_max_input.shape)\n",
    "print(train_max_input)"
   ]
  },
  {
   "cell_type": "code",
   "execution_count": 701,
   "metadata": {},
   "outputs": [
    {
     "name": "stdout",
     "output_type": "stream",
     "text": [
      "[385, 566, 551, 75]\n"
     ]
    },
    {
     "data": {
      "image/png": "[encoded data removed]",
      "text/plain": [
       "<Figure size 432x288 with 1 Axes>"
      ]
     },
     "metadata": {
      "needs_background": "light"
     },
     "output_type": "display_data"
    }
   ],
   "source": [
    "T_range = []\n",
    "for i in train_max_target:\n",
    "    if i<=5 :\n",
    "        T_range.append(1)\n",
    "    elif i <=9:\n",
    "        T_range.append(2)\n",
    "    elif i<=15:\n",
    "        T_range.append(3)\n",
    "    else:\n",
    "        T_range.append(4)\n",
    "\n",
    "T_range =np.array(T_range)\n",
    "T_range_x = ['5','5-9','9-15','15-']\n",
    "T_range_y =[np.sum(T_range==1),np.sum(T_range==2),np.sum(T_range==3),np.sum(T_range==4)]\n",
    "print(T_range_y)\n",
    "plt.bar(T_range_x,T_range_y)\n",
    "plt.show()"
   ]
  },
  {
   "cell_type": "code",
   "execution_count": 702,
   "metadata": {},
   "outputs": [],
   "source": [
    "train_max_input=train_max_input.to_numpy()\n",
    "train_max_target=train_max_target.to_numpy()"
   ]
  },
  {
   "cell_type": "code",
   "execution_count": 703,
   "metadata": {},
   "outputs": [],
   "source": [
    "train_max_poly = poly.transform(train_max_input)\n",
    "train_max_scaled = ss.transform(train_max_poly)"
   ]
  },
  {
   "cell_type": "code",
   "execution_count": 704,
   "metadata": {},
   "outputs": [
    {
     "data": {
      "text/plain": [
       "array([10.47019561, 14.75944393,  5.17383311, ...,  9.67461227,\n",
       "        8.85807122, 12.18020942])"
      ]
     },
     "execution_count": 704,
     "metadata": {},
     "output_type": "execute_result"
    }
   ],
   "source": [
    "#최종 확인\n",
    "ridge =Ridge(alpha=10)\n",
    "ridge.fit(train_max_scaled,train_max_target)\n",
    "ans = ridge.predict(ques_scaled)\n",
    "ans"
   ]
  },
  {
   "cell_type": "code",
   "execution_count": 705,
   "metadata": {},
   "outputs": [],
   "source": [
    "submission = pd.read_csv(\"E:\\데이콘\\전복나이 예측\\데이터\\sample_submission.csv\")\n",
    "submission['Target'] = ans\n",
    "submission.to_csv(\"Submit_7(오버샘플링피처추가릿지).csv\",index=False)"
   ]
  }
 ],
 "metadata": {
  "interpreter": {
   "hash": "0acc62e3991d0f967e612eec664f4e3cdc0de12aaa299698365d7f9a254e36c2"
  },
  "kernelspec": {
   "display_name": "Python 3.10.2 64-bit (system)",
   "language": "python",
   "name": "python3"
  },
  "language_info": {
   "codemirror_mode": {
    "name": "ipython",
    "version": 3
   },
   "file_extension": ".py",
   "mimetype": "text/x-python",
   "name": "python",
   "nbconvert_exporter": "python",
   "pygments_lexer": "ipython3",
   "version": "3.10.2"
  },
  "orig_nbformat": 4
 },
 "nbformat": 4,
 "nbformat_minor": 2
}
