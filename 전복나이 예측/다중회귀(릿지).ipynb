{
 "cells": [
  {
   "cell_type": "code",
   "execution_count": 138,
   "metadata": {},
   "outputs": [],
   "source": [
    "#import하기\n",
    "import pandas as pd\n",
    "from sklearn.model_selection import train_test_split\n",
    "from sklearn.preprocessing import PolynomialFeatures\n",
    "from sklearn.preprocessing import StandardScaler\n",
    "from sklearn.linear_model import LinearRegression\n",
    "import matplotlib.pyplot as plt\n",
    "import numpy as np\n",
    "from sklearn.linear_model import Ridge"
   ]
  },
  {
   "cell_type": "code",
   "execution_count": 139,
   "metadata": {},
   "outputs": [
    {
     "name": "stdout",
     "output_type": "stream",
     "text": [
      "Index(['id', 'Gender', 'Lenght', 'Diameter', 'Height', 'Whole Weight',\n",
      "       'Shucked Weight', 'Viscra Weight', 'Shell Weight', 'Target'],\n",
      "      dtype='object')\n"
     ]
    }
   ],
   "source": [
    "#데이터 준비하기 \n",
    "train_data = pd.read_csv(\"E:\\데이콘\\\\전복나이 예측\\\\데이터\\\\train.csv\")\n",
    "print(train_data.columns)\n",
    "train_max_input = train_data[['Gender','Lenght','Diameter','Height','Whole Weight','Shucked Weight','Viscra Weight','Shell Weight']]\n",
    "train_max_target = train_data['Target'].to_numpy()\n",
    "\n",
    "ques_data = pd.read_csv(\"E:\\데이콘\\\\전복나이 예측\\\\데이터\\\\test.csv\")\n",
    "ques_input = ques_data[['Gender','Lenght','Diameter','Height','Whole Weight','Shucked Weight','Viscra Weight','Shell Weight']]\n"
   ]
  },
  {
   "cell_type": "code",
   "execution_count": 140,
   "metadata": {},
   "outputs": [
    {
     "name": "stdout",
     "output_type": "stream",
     "text": [
      "결측치가 존재하지 않습니다\n"
     ]
    }
   ],
   "source": [
    "\n",
    "# 데이터 결측지 확인 (제공됨)\n",
    "def check_missing_col(dataframe):\n",
    "    missing_col = []\n",
    "    counted_missing_col = 0\n",
    "    for i, col in enumerate(dataframe.columns):\n",
    "        missing_values = sum(dataframe[col].isna())\n",
    "        is_missing = True if missing_values >= 1 else False\n",
    "        if is_missing:\n",
    "            counted_missing_col += 1\n",
    "            print(f'결측치가 있는 컬럼은: {col}입니다')\n",
    "            print(f'해당 컬럼에 총 {missing_values}개의 결측치가 존재합니다.')\n",
    "            missing_col.append([col, dataframe[col].dtype])\n",
    "    if counted_missing_col == 0:\n",
    "        print('결측치가 존재하지 않습니다')\n",
    "    return missing_col\n",
    "missing_col = check_missing_col(train_data)"
   ]
  },
  {
   "cell_type": "code",
   "execution_count": 141,
   "metadata": {},
   "outputs": [
    {
     "data": {
      "image/png": "[encoded data removed]",
      "text/plain": [
       "<Figure size 432x288 with 1 Axes>"
      ]
     },
     "metadata": {
      "needs_background": "light"
     },
     "output_type": "display_data"
    }
   ],
   "source": [
    "#나이 분포 눈으로 확인\n",
    "plt.bar(np.unique(train_max_target, return_counts= True)[0],np.unique(train_max_target, return_counts= True)[1])\n",
    "plt.show()\n"
   ]
  },
  {
   "cell_type": "code",
   "execution_count": 142,
   "metadata": {},
   "outputs": [
    {
     "name": "stdout",
     "output_type": "stream",
     "text": [
      "      Lenght  Diameter  Height  Whole Weight  Shucked Weight  Viscra Weight  \\\n",
      "0      0.605     0.470   0.115        1.1140          0.3925         0.2910   \n",
      "1      0.430     0.315   0.095        0.3780          0.1750         0.0800   \n",
      "2      0.580     0.490   0.195        1.3165          0.5305         0.2540   \n",
      "3      0.535     0.405   0.175        1.2705          0.5480         0.3265   \n",
      "4      0.310     0.235   0.090        0.1270          0.0480         0.0310   \n",
      "...      ...       ...     ...           ...             ...            ...   \n",
      "1248   0.190     0.145   0.040        0.0380          0.0165         0.0065   \n",
      "1249   0.395     0.310   0.085        0.3170          0.1530         0.0505   \n",
      "1250   0.525     0.410   0.115        0.7745          0.4160         0.1630   \n",
      "1251   0.445     0.335   0.110        0.4355          0.2025         0.1095   \n",
      "1252   0.750     0.550   0.195        1.8325          0.8300         0.3660   \n",
      "\n",
      "      Shell Weight  F  I  M  \n",
      "0           0.3100  0  0  1  \n",
      "1           0.1045  0  1  0  \n",
      "2           0.4100  0  1  0  \n",
      "3           0.3370  0  0  1  \n",
      "4           0.0400  0  1  0  \n",
      "...            ... .. .. ..  \n",
      "1248        0.0150  0  1  0  \n",
      "1249        0.0935  0  1  0  \n",
      "1250        0.1800  1  0  0  \n",
      "1251        0.1195  1  0  0  \n",
      "1252        0.4400  1  0  0  \n",
      "\n",
      "[1253 rows x 10 columns]\n"
     ]
    }
   ],
   "source": [
    "#성별 원핫 인코딩\n",
    "train_max_input = pd.concat([train_max_input.drop(['Gender'],axis=1),pd.get_dummies(train_max_input['Gender'])],axis=1)\n",
    "ques_input =pd.concat([ques_input.drop(['Gender'],axis=1),pd.get_dummies(ques_input['Gender'])],axis=1)\n",
    "print(train_max_input)"
   ]
  },
  {
   "cell_type": "code",
   "execution_count": 143,
   "metadata": {},
   "outputs": [],
   "source": [
    "#훈련세트와 테스트 세트 나누기\n",
    "train_input, test_input, train_target, test_target = train_test_split(train_max_input,train_max_target, test_size=0.2, random_state=42)"
   ]
  },
  {
   "cell_type": "code",
   "execution_count": 144,
   "metadata": {},
   "outputs": [],
   "source": [
    "#훈련세트랑 검증세트도\n",
    "sub_input, val_input,sub_target, val_target = train_test_split(train_input,train_target, test_size=0.2,random_state=42)"
   ]
  },
  {
   "cell_type": "code",
   "execution_count": 145,
   "metadata": {},
   "outputs": [],
   "source": [
    "#다루기 쉽게 데이터프레임 ㅡ> 넘파이 배열\n",
    "train_input = train_input.to_numpy()\n",
    "test_input = test_input.to_numpy()\n",
    "sub_input = sub_input.to_numpy()\n",
    "val_input = val_input.to_numpy()"
   ]
  },
  {
   "cell_type": "code",
   "execution_count": 146,
   "metadata": {},
   "outputs": [],
   "source": [
    "#특성공학으로 특성 늘리기\n",
    "poly = PolynomialFeatures(degree=3,include_bias= False)\n",
    "poly.fit(sub_input)\n",
    "train_poly=poly.transform(train_input)\n",
    "test_poly = poly.transform(test_input)\n",
    "sub_poly=poly.transform(sub_input)\n",
    "val_poly = poly.transform(val_input)"
   ]
  },
  {
   "cell_type": "code",
   "execution_count": 147,
   "metadata": {},
   "outputs": [
    {
     "name": "stderr",
     "output_type": "stream",
     "text": [
      "C:\\Users\\dlehd\\AppData\\Local\\Programs\\Python\\Python310\\lib\\site-packages\\sklearn\\base.py:443: UserWarning: X has feature names, but PolynomialFeatures was fitted without feature names\n",
      "  warnings.warn(\n"
     ]
    }
   ],
   "source": [
    "#급하게 데이터 준비\n",
    "ques_input = ques_input.to_numpy()\n",
    "train_max_poly = poly.transform(train_max_input)\n",
    "ques_poly = poly.transform(ques_input)"
   ]
  },
  {
   "cell_type": "code",
   "execution_count": 148,
   "metadata": {},
   "outputs": [
    {
     "name": "stdout",
     "output_type": "stream",
     "text": [
      "0.7298523791512452\n",
      "-32.32491323545421\n"
     ]
    }
   ],
   "source": [
    "#다중회귀 로 예측\n",
    "lr = LinearRegression()\n",
    "lr.fit(sub_poly, sub_target)\n",
    "print(lr.score(sub_poly,sub_target))\n",
    "print(lr.score(val_poly,val_target))"
   ]
  },
  {
   "cell_type": "code",
   "execution_count": 149,
   "metadata": {},
   "outputs": [
    {
     "name": "stdout",
     "output_type": "stream",
     "text": [
      "(1253, 10) =\n",
      "(1002, 10) +\n",
      "(251, 10) =\n",
      "(801, 10) 많음\n",
      "(201, 10)\n"
     ]
    }
   ],
   "source": [
    "print(train_max_input.shape, '=')\n",
    "print(train_input.shape,'+')\n",
    "print(test_input.shape,'=')\n",
    "print(sub_input.shape,'많음')\n",
    "print(val_input.shape)"
   ]
  },
  {
   "cell_type": "code",
   "execution_count": 150,
   "metadata": {},
   "outputs": [],
   "source": [
    "#규제 전 전처리 과정\n",
    "from sklearn.preprocessing import StandardScaler\n",
    "ss= StandardScaler()\n",
    "ss.fit(sub_poly)\n",
    "train_scaled = ss.transform(train_poly)\n",
    "sub_scaled = ss.transform(sub_poly)\n",
    "val_scaled = ss.transform(val_poly)\n",
    "train_max_scaled = ss.transform(train_max_poly)\n",
    "ques_scaled = ss.transform(ques_poly)\n",
    "test_scaled = ss.transform(test_poly)"
   ]
  },
  {
   "cell_type": "code",
   "execution_count": 151,
   "metadata": {},
   "outputs": [
    {
     "name": "stdout",
     "output_type": "stream",
     "text": [
      "(1253, 285) =\n",
      "(1002, 285) +\n",
      "(251, 285) =\n",
      "(801, 285)\n",
      "(201, 285)\n"
     ]
    }
   ],
   "source": [
    "print(train_max_scaled.shape, '=')\n",
    "print(train_scaled.shape,'+')\n",
    "print(test_scaled.shape,'=')\n",
    "print(sub_scaled.shape)\n",
    "print(val_scaled.shape)"
   ]
  },
  {
   "cell_type": "code",
   "execution_count": 152,
   "metadata": {},
   "outputs": [
    {
     "name": "stdout",
     "output_type": "stream",
     "text": [
      "0.5925302082548048\n",
      "0.5576643369765695\n"
     ]
    }
   ],
   "source": [
    "#릿지 규제\n",
    "ridge = Ridge()\n",
    "ridge.fit(sub_scaled, sub_target)\n",
    "print(ridge.score(sub_scaled,sub_target))\n",
    "print(ridge.score(val_scaled,val_target))"
   ]
  },
  {
   "cell_type": "code",
   "execution_count": 153,
   "metadata": {},
   "outputs": [],
   "source": [
    "sub_scores =[]\n",
    "val_scores = []"
   ]
  },
  {
   "cell_type": "code",
   "execution_count": 154,
   "metadata": {},
   "outputs": [
    {
     "name": "stdout",
     "output_type": "stream",
     "text": [
      "[0.6791542946178863, 0.647587731496198, 0.6202176873893614, 0.5925302082548048, 0.5580203033646813, 0.5144957982023082, 0.4444120871085787, 0.34157830820531143]\n",
      "[0.0063593345089298925, 0.32822843083886233, 0.4729451991306254, 0.5576643369765695, 0.5587601012533272, 0.5009679739752027, 0.43621002039093715, 0.3287291054442568]\n"
     ]
    }
   ],
   "source": [
    "#최적의 alpha값 찾기\n",
    "alpha_list = [0.001,0.01,0.1,1,10,100,1000,10000]\n",
    "for alpha in alpha_list:\n",
    "    ridge= Ridge(alpha=alpha)\n",
    "    ridge.fit(sub_scaled, sub_target)\n",
    "    sub_scores.append(ridge.score(sub_scaled,sub_target))\n",
    "    val_scores.append(ridge.score(val_scaled,val_target))\n",
    "    \n",
    "print(sub_scores)\n",
    "print(val_scores)"
   ]
  },
  {
   "cell_type": "code",
   "execution_count": 155,
   "metadata": {},
   "outputs": [
    {
     "data": {
      "image/png": "[encoded data removed]",
      "text/plain": [
       "<Figure size 432x288 with 1 Axes>"
      ]
     },
     "metadata": {
      "needs_background": "light"
     },
     "output_type": "display_data"
    }
   ],
   "source": [
    "plt.plot(np.log10(alpha_list),sub_scores)\n",
    "plt.plot(np.log10(alpha_list),val_scores)\n",
    "plt.ylim(0, 1)\n",
    "plt.xlabel('alpha')\n",
    "plt.ylabel('R^2')\n",
    "plt.legend(['sub','val'])\n",
    "plt.show()"
   ]
  },
  {
   "cell_type": "code",
   "execution_count": 156,
   "metadata": {},
   "outputs": [
    {
     "name": "stdout",
     "output_type": "stream",
     "text": [
      "0.5654357182819001\n",
      "0.5551667665446338\n"
     ]
    }
   ],
   "source": [
    "#최종 확인\n",
    "ridge =Ridge(alpha=10)\n",
    "ridge.fit(train_scaled,train_target)\n",
    "print(ridge.score(train_scaled,train_target))\n",
    "print(ridge.score(test_scaled,test_target))"
   ]
  },
  {
   "cell_type": "code",
   "execution_count": 157,
   "metadata": {},
   "outputs": [],
   "source": [
    "#답 구하기\n",
    "ridge.fit(train_max_scaled,train_max_target)\n",
    "ans=ridge.predict(ques_scaled)"
   ]
  },
  {
   "cell_type": "code",
   "execution_count": 158,
   "metadata": {},
   "outputs": [],
   "source": [
    "submission = pd.read_csv(\"E:\\데이콘\\전복나이 예측\\데이터\\sample_submission.csv\")\n",
    "submission['Target'] = ans\n",
    "submission.to_csv(\"Submit_3.csv\",index=False)"
   ]
  },
  {
   "cell_type": "code",
   "execution_count": 159,
   "metadata": {},
   "outputs": [],
   "source": [
    "##파일에 저장\n",
    "#f= open(\"ridge_submission.csv\",\"w\")\n",
    "#id = range(1,2925)\n",
    "#for i in id:\n",
    "#    f.write(str(i) + ',' + str(ans[i-1]) + '\\n')\n",
    "#f.close()"
   ]
  },
  {
   "cell_type": "code",
   "execution_count": 160,
   "metadata": {},
   "outputs": [
    {
     "name": "stdout",
     "output_type": "stream",
     "text": [
      "[11.33215288 11.69386422  9.75229942  9.07976597 15.34589717 10.81738575\n",
      "  9.0744705  10.02646936  7.89435646 13.38853248]\n",
      "[ 8 13 13  9 13 14 10  9  6 13]\n",
      "0.14472075010191604\n"
     ]
    }
   ],
   "source": [
    "#예상 평가 점수 만들어보기\n",
    "def NMAE(true, pred):\n",
    "    mae = np.mean(np.abs(true-pred))\n",
    "    score = mae / np.mean(np.abs(true))\n",
    "    return score\n",
    "ridge = Ridge(alpha=10)\n",
    "ridge.fit(train_scaled,train_target)\n",
    "pred = ridge.predict(test_scaled)\n",
    "print(pred[:10])\n",
    "print(test_target[:10])\n",
    "\n",
    "print(NMAE(test_target,np.around(pred)))"
   ]
  }
 ],
 "metadata": {
  "interpreter": {
   "hash": "0acc62e3991d0f967e612eec664f4e3cdc0de12aaa299698365d7f9a254e36c2"
  },
  "kernelspec": {
   "display_name": "Python 3.10.2 64-bit (system)",
   "language": "python",
   "name": "python3"
  },
  "language_info": {
   "codemirror_mode": {
    "name": "ipython",
    "version": 3
   },
   "file_extension": ".py",
   "mimetype": "text/x-python",
   "name": "python",
   "nbconvert_exporter": "python",
   "pygments_lexer": "ipython3",
   "version": "3.10.2"
  },
  "orig_nbformat": 4
 },
 "nbformat": 4,
 "nbformat_minor": 2
}
