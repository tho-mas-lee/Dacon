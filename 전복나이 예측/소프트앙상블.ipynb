{
 "cells": [
  {
   "cell_type": "code",
   "execution_count": null,
   "metadata": {},
   "outputs": [],
   "source": [
    "import pandas as pd\n",
    "submission1 = pd.read_csv(\"E:\\데이콘\\전복나이 예측\\Submit_16(1.255반올림x).csv\")\n",
    "submission2 = pd.read_csv(\"E:\\데이콘\\전복나이 예측\\Submit_16(1.275반올림x).csv\")\n",
    "submission3 = pd.read_csv(\"E:\\데이콘\\전복나이 예측\\Submit_16(1.30반올림x).csv\")\n",
    "submission4 = pd.read_csv(\"E:\\데이콘\\전복나이 예측\\Submit_16(1.31반올림x).csv\")\n",
    "submission5 = pd.read_csv(\"E:\\데이콘\\전복나이 예측\\Submit_16(1.3243반올림x).csv\")\n",
    "submission['Target'] = ans\n",
    "submission.to_csv(\"Submit_11(딥러닝3_mae).csv\",index=False)"
   ]
  }
 ],
 "metadata": {
  "language_info": {
   "name": "python"
  },
  "orig_nbformat": 4
 },
 "nbformat": 4,
 "nbformat_minor": 2
}
