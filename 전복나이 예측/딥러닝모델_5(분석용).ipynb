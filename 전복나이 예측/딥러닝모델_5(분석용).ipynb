{
 "cells": [
  {
   "cell_type": "code",
   "execution_count": 25,
   "metadata": {},
   "outputs": [],
   "source": [
    "#데이터 준비하기 \n",
    "import pandas as pd\n",
    "\n",
    "train_data = pd.read_csv(\"E:\\데이콘\\\\전복나이 예측\\\\데이터\\\\train.csv\")\n",
    "\n",
    "ques_data = pd.read_csv(\"E:\\데이콘\\\\전복나이 예측\\\\데이터\\\\test.csv\")"
   ]
  },
  {
   "cell_type": "code",
   "execution_count": 26,
   "metadata": {},
   "outputs": [
    {
     "name": "stdout",
     "output_type": "stream",
     "text": [
      "Index(['id', 'Gender', 'Lenght', 'Diameter', 'Height', 'Whole Weight',\n",
      "       'Shucked Weight', 'Viscra Weight', 'Shell Weight', 'Target'],\n",
      "      dtype='object')\n"
     ]
    }
   ],
   "source": [
    "print(train_data.columns)"
   ]
  },
  {
   "cell_type": "markdown",
   "metadata": {},
   "source": [
    "Viscra 내장\n",
    "Shucked Weight  the weight without the shell\n",
    "Shell Weight 껍질 무게\n",
    "\n",
    "\n",
    "제거할 번호 465, 762, 47, 382, 435, 1078"
   ]
  },
  {
   "cell_type": "code",
   "execution_count": 27,
   "metadata": {},
   "outputs": [
    {
     "data": {
      "text/html": [
       "<div>\n",
       "<style scoped>\n",
       "    .dataframe tbody tr th:only-of-type {\n",
       "        vertical-align: middle;\n",
       "    }\n",
       "\n",
       "    .dataframe tbody tr th {\n",
       "        vertical-align: top;\n",
       "    }\n",
       "\n",
       "    .dataframe thead th {\n",
       "        text-align: right;\n",
       "    }\n",
       "</style>\n",
       "<table border=\"1\" class=\"dataframe\">\n",
       "  <thead>\n",
       "    <tr style=\"text-align: right;\">\n",
       "      <th></th>\n",
       "      <th>id</th>\n",
       "      <th>Gender</th>\n",
       "      <th>Lenght</th>\n",
       "      <th>Diameter</th>\n",
       "      <th>Height</th>\n",
       "      <th>Whole Weight</th>\n",
       "      <th>Shucked Weight</th>\n",
       "      <th>Viscra Weight</th>\n",
       "      <th>Shell Weight</th>\n",
       "      <th>Target</th>\n",
       "    </tr>\n",
       "  </thead>\n",
       "  <tbody>\n",
       "    <tr>\n",
       "      <th>465</th>\n",
       "      <td>466</td>\n",
       "      <td>M</td>\n",
       "      <td>0.415</td>\n",
       "      <td>0.315</td>\n",
       "      <td>0.125</td>\n",
       "      <td>0.388</td>\n",
       "      <td>0.068</td>\n",
       "      <td>0.09</td>\n",
       "      <td>0.125</td>\n",
       "      <td>12</td>\n",
       "    </tr>\n",
       "  </tbody>\n",
       "</table>\n",
       "</div>"
      ],
      "text/plain": [
       "      id Gender  Lenght  Diameter  Height  Whole Weight  Shucked Weight  \\\n",
       "465  466      M   0.415     0.315   0.125         0.388           0.068   \n",
       "\n",
       "     Viscra Weight  Shell Weight  Target  \n",
       "465           0.09         0.125      12  "
      ]
     },
     "execution_count": 27,
     "metadata": {},
     "output_type": "execute_result"
    }
   ],
   "source": [
    "train_data[train_data['Viscra Weight']>train_data['Shucked Weight']]"
   ]
  },
  {
   "cell_type": "code",
   "execution_count": 28,
   "metadata": {},
   "outputs": [
    {
     "data": {
      "text/html": [
       "<div>\n",
       "<style scoped>\n",
       "    .dataframe tbody tr th:only-of-type {\n",
       "        vertical-align: middle;\n",
       "    }\n",
       "\n",
       "    .dataframe tbody tr th {\n",
       "        vertical-align: top;\n",
       "    }\n",
       "\n",
       "    .dataframe thead th {\n",
       "        text-align: right;\n",
       "    }\n",
       "</style>\n",
       "<table border=\"1\" class=\"dataframe\">\n",
       "  <thead>\n",
       "    <tr style=\"text-align: right;\">\n",
       "      <th></th>\n",
       "      <th>id</th>\n",
       "      <th>Gender</th>\n",
       "      <th>Lenght</th>\n",
       "      <th>Diameter</th>\n",
       "      <th>Height</th>\n",
       "      <th>Whole Weight</th>\n",
       "      <th>Shucked Weight</th>\n",
       "      <th>Viscra Weight</th>\n",
       "      <th>Shell Weight</th>\n",
       "      <th>Target</th>\n",
       "    </tr>\n",
       "  </thead>\n",
       "  <tbody>\n",
       "    <tr>\n",
       "      <th>47</th>\n",
       "      <td>48</td>\n",
       "      <td>I</td>\n",
       "      <td>0.380</td>\n",
       "      <td>0.275</td>\n",
       "      <td>0.095</td>\n",
       "      <td>0.1375</td>\n",
       "      <td>0.0860</td>\n",
       "      <td>0.0585</td>\n",
       "      <td>0.0605</td>\n",
       "      <td>7</td>\n",
       "    </tr>\n",
       "    <tr>\n",
       "      <th>382</th>\n",
       "      <td>383</td>\n",
       "      <td>I</td>\n",
       "      <td>0.455</td>\n",
       "      <td>0.330</td>\n",
       "      <td>0.100</td>\n",
       "      <td>0.3720</td>\n",
       "      <td>0.3580</td>\n",
       "      <td>0.0775</td>\n",
       "      <td>0.1100</td>\n",
       "      <td>8</td>\n",
       "    </tr>\n",
       "    <tr>\n",
       "      <th>435</th>\n",
       "      <td>436</td>\n",
       "      <td>I</td>\n",
       "      <td>0.475</td>\n",
       "      <td>0.365</td>\n",
       "      <td>0.100</td>\n",
       "      <td>0.1315</td>\n",
       "      <td>0.2025</td>\n",
       "      <td>0.0875</td>\n",
       "      <td>0.1230</td>\n",
       "      <td>7</td>\n",
       "    </tr>\n",
       "    <tr>\n",
       "      <th>847</th>\n",
       "      <td>848</td>\n",
       "      <td>I</td>\n",
       "      <td>0.230</td>\n",
       "      <td>0.165</td>\n",
       "      <td>0.060</td>\n",
       "      <td>0.0515</td>\n",
       "      <td>0.0190</td>\n",
       "      <td>0.0145</td>\n",
       "      <td>0.0360</td>\n",
       "      <td>4</td>\n",
       "    </tr>\n",
       "    <tr>\n",
       "      <th>1078</th>\n",
       "      <td>1079</td>\n",
       "      <td>I</td>\n",
       "      <td>0.275</td>\n",
       "      <td>0.205</td>\n",
       "      <td>0.070</td>\n",
       "      <td>0.1055</td>\n",
       "      <td>0.4950</td>\n",
       "      <td>0.0190</td>\n",
       "      <td>0.0315</td>\n",
       "      <td>5</td>\n",
       "    </tr>\n",
       "  </tbody>\n",
       "</table>\n",
       "</div>"
      ],
      "text/plain": [
       "        id Gender  Lenght  Diameter  Height  Whole Weight  Shucked Weight  \\\n",
       "47      48      I   0.380     0.275   0.095        0.1375          0.0860   \n",
       "382    383      I   0.455     0.330   0.100        0.3720          0.3580   \n",
       "435    436      I   0.475     0.365   0.100        0.1315          0.2025   \n",
       "847    848      I   0.230     0.165   0.060        0.0515          0.0190   \n",
       "1078  1079      I   0.275     0.205   0.070        0.1055          0.4950   \n",
       "\n",
       "      Viscra Weight  Shell Weight  Target  \n",
       "47           0.0585        0.0605       7  \n",
       "382          0.0775        0.1100       8  \n",
       "435          0.0875        0.1230       7  \n",
       "847          0.0145        0.0360       4  \n",
       "1078         0.0190        0.0315       5  "
      ]
     },
     "execution_count": 28,
     "metadata": {},
     "output_type": "execute_result"
    }
   ],
   "source": [
    "train_data[(train_data['Shell Weight']+train_data['Shucked Weight'])>train_data['Whole Weight']]"
   ]
  },
  {
   "cell_type": "code",
   "execution_count": 29,
   "metadata": {},
   "outputs": [
    {
     "data": {
      "text/html": [
       "<div>\n",
       "<style scoped>\n",
       "    .dataframe tbody tr th:only-of-type {\n",
       "        vertical-align: middle;\n",
       "    }\n",
       "\n",
       "    .dataframe tbody tr th {\n",
       "        vertical-align: top;\n",
       "    }\n",
       "\n",
       "    .dataframe thead th {\n",
       "        text-align: right;\n",
       "    }\n",
       "</style>\n",
       "<table border=\"1\" class=\"dataframe\">\n",
       "  <thead>\n",
       "    <tr style=\"text-align: right;\">\n",
       "      <th></th>\n",
       "      <th>id</th>\n",
       "      <th>Gender</th>\n",
       "      <th>Lenght</th>\n",
       "      <th>Diameter</th>\n",
       "      <th>Height</th>\n",
       "      <th>Whole Weight</th>\n",
       "      <th>Shucked Weight</th>\n",
       "      <th>Viscra Weight</th>\n",
       "      <th>Shell Weight</th>\n",
       "      <th>Target</th>\n",
       "    </tr>\n",
       "  </thead>\n",
       "  <tbody>\n",
       "    <tr>\n",
       "      <th>435</th>\n",
       "      <td>436</td>\n",
       "      <td>I</td>\n",
       "      <td>0.475</td>\n",
       "      <td>0.365</td>\n",
       "      <td>0.10</td>\n",
       "      <td>0.1315</td>\n",
       "      <td>0.2025</td>\n",
       "      <td>0.0875</td>\n",
       "      <td>0.1230</td>\n",
       "      <td>7</td>\n",
       "    </tr>\n",
       "    <tr>\n",
       "      <th>1078</th>\n",
       "      <td>1079</td>\n",
       "      <td>I</td>\n",
       "      <td>0.275</td>\n",
       "      <td>0.205</td>\n",
       "      <td>0.07</td>\n",
       "      <td>0.1055</td>\n",
       "      <td>0.4950</td>\n",
       "      <td>0.0190</td>\n",
       "      <td>0.0315</td>\n",
       "      <td>5</td>\n",
       "    </tr>\n",
       "  </tbody>\n",
       "</table>\n",
       "</div>"
      ],
      "text/plain": [
       "        id Gender  Lenght  Diameter  Height  Whole Weight  Shucked Weight  \\\n",
       "435    436      I   0.475     0.365    0.10        0.1315          0.2025   \n",
       "1078  1079      I   0.275     0.205    0.07        0.1055          0.4950   \n",
       "\n",
       "      Viscra Weight  Shell Weight  Target  \n",
       "435          0.0875        0.1230       7  \n",
       "1078         0.0190        0.0315       5  "
      ]
     },
     "execution_count": 29,
     "metadata": {},
     "output_type": "execute_result"
    }
   ],
   "source": [
    "train_data[train_data['Shucked Weight']>train_data['Whole Weight']]"
   ]
  },
  {
   "cell_type": "code",
   "execution_count": 30,
   "metadata": {},
   "outputs": [
    {
     "name": "stdout",
     "output_type": "stream",
     "text": [
      "(1253, 10)\n"
     ]
    }
   ],
   "source": [
    "print(train_data.shape)\n",
    "train_data.drop(index=762,axis =0,inplace= True)\n",
    "train_data.drop(index=465,axis =0,inplace= True)\n",
    "train_data.drop(index=47,axis =0,inplace= True)\n",
    "train_data.drop(index=382,axis =0,inplace= True)\n",
    "train_data.drop(index=435,axis =0,inplace= True)\n",
    "train_data.drop(index=1078,axis =0,inplace= True)\n",
    "#만약 제거 하기 싫으면 이거 지우면댐"
   ]
  },
  {
   "cell_type": "code",
   "execution_count": 31,
   "metadata": {},
   "outputs": [
    {
     "name": "stdout",
     "output_type": "stream",
     "text": [
      "(1247, 10)\n"
     ]
    }
   ],
   "source": [
    "print(train_data.shape)"
   ]
  },
  {
   "cell_type": "code",
   "execution_count": 32,
   "metadata": {},
   "outputs": [],
   "source": [
    "#water = 전체무게 -(껍질무게+껍질을 제외한 무게) 보다 ratio=껍질을 제외한 무게/전체 무게 \n",
    "water_train = train_data['Whole Weight'] -train_data['Shucked Weight']\n",
    "water_ques = ques_data['Whole Weight'] -ques_data['Shucked Weight']"
   ]
  },
  {
   "cell_type": "code",
   "execution_count": 33,
   "metadata": {},
   "outputs": [],
   "source": [
    "#train_data['Water'] = water_train\n",
    "#ques_data['Water'] = water_ques"
   ]
  },
  {
   "cell_type": "code",
   "execution_count": 34,
   "metadata": {},
   "outputs": [
    {
     "name": "stdout",
     "output_type": "stream",
     "text": [
      "   id Gender  Lenght  Diameter  Height  Whole Weight  Shucked Weight  \\\n",
      "0   1      M   0.605     0.470   0.115        1.1140          0.3925   \n",
      "1   2      I   0.430     0.315   0.095        0.3780          0.1750   \n",
      "2   3      I   0.580     0.490   0.195        1.3165          0.5305   \n",
      "3   4      M   0.535     0.405   0.175        1.2705          0.5480   \n",
      "4   5      I   0.310     0.235   0.090        0.1270          0.0480   \n",
      "\n",
      "   Viscra Weight  Shell Weight  Target     Ratio  \n",
      "0         0.2910        0.3100      15  0.352334  \n",
      "1         0.0800        0.1045       8  0.462963  \n",
      "2         0.2540        0.4100      18  0.402962  \n",
      "3         0.3265        0.3370      13  0.431326  \n",
      "4         0.0310        0.0400       6  0.377953  \n"
     ]
    },
    {
     "data": {
      "text/html": [
       "<div>\n",
       "<style scoped>\n",
       "    .dataframe tbody tr th:only-of-type {\n",
       "        vertical-align: middle;\n",
       "    }\n",
       "\n",
       "    .dataframe tbody tr th {\n",
       "        vertical-align: top;\n",
       "    }\n",
       "\n",
       "    .dataframe thead th {\n",
       "        text-align: right;\n",
       "    }\n",
       "</style>\n",
       "<table border=\"1\" class=\"dataframe\">\n",
       "  <thead>\n",
       "    <tr style=\"text-align: right;\">\n",
       "      <th></th>\n",
       "      <th>id</th>\n",
       "      <th>Gender</th>\n",
       "      <th>Lenght</th>\n",
       "      <th>Diameter</th>\n",
       "      <th>Height</th>\n",
       "      <th>Whole Weight</th>\n",
       "      <th>Shucked Weight</th>\n",
       "      <th>Viscra Weight</th>\n",
       "      <th>Shell Weight</th>\n",
       "      <th>Ratio</th>\n",
       "    </tr>\n",
       "  </thead>\n",
       "  <tbody>\n",
       "    <tr>\n",
       "      <th>0</th>\n",
       "      <td>1</td>\n",
       "      <td>F</td>\n",
       "      <td>0.595</td>\n",
       "      <td>0.470</td>\n",
       "      <td>0.155</td>\n",
       "      <td>1.121</td>\n",
       "      <td>0.4515</td>\n",
       "      <td>0.1780</td>\n",
       "      <td>0.1550</td>\n",
       "      <td>0.402765</td>\n",
       "    </tr>\n",
       "    <tr>\n",
       "      <th>1</th>\n",
       "      <td>2</td>\n",
       "      <td>M</td>\n",
       "      <td>0.580</td>\n",
       "      <td>0.450</td>\n",
       "      <td>0.150</td>\n",
       "      <td>0.927</td>\n",
       "      <td>0.2760</td>\n",
       "      <td>0.1815</td>\n",
       "      <td>0.3600</td>\n",
       "      <td>0.297735</td>\n",
       "    </tr>\n",
       "    <tr>\n",
       "      <th>2</th>\n",
       "      <td>3</td>\n",
       "      <td>I</td>\n",
       "      <td>0.260</td>\n",
       "      <td>0.205</td>\n",
       "      <td>0.070</td>\n",
       "      <td>0.097</td>\n",
       "      <td>0.0415</td>\n",
       "      <td>0.0190</td>\n",
       "      <td>0.0305</td>\n",
       "      <td>0.427835</td>\n",
       "    </tr>\n",
       "    <tr>\n",
       "      <th>3</th>\n",
       "      <td>4</td>\n",
       "      <td>M</td>\n",
       "      <td>0.590</td>\n",
       "      <td>0.460</td>\n",
       "      <td>0.130</td>\n",
       "      <td>1.102</td>\n",
       "      <td>0.4550</td>\n",
       "      <td>0.2055</td>\n",
       "      <td>0.3300</td>\n",
       "      <td>0.412886</td>\n",
       "    </tr>\n",
       "    <tr>\n",
       "      <th>4</th>\n",
       "      <td>5</td>\n",
       "      <td>F</td>\n",
       "      <td>0.595</td>\n",
       "      <td>0.465</td>\n",
       "      <td>0.140</td>\n",
       "      <td>1.113</td>\n",
       "      <td>0.5175</td>\n",
       "      <td>0.2440</td>\n",
       "      <td>0.3050</td>\n",
       "      <td>0.464960</td>\n",
       "    </tr>\n",
       "  </tbody>\n",
       "</table>\n",
       "</div>"
      ],
      "text/plain": [
       "   id Gender  Lenght  Diameter  Height  Whole Weight  Shucked Weight  \\\n",
       "0   1      F   0.595     0.470   0.155         1.121          0.4515   \n",
       "1   2      M   0.580     0.450   0.150         0.927          0.2760   \n",
       "2   3      I   0.260     0.205   0.070         0.097          0.0415   \n",
       "3   4      M   0.590     0.460   0.130         1.102          0.4550   \n",
       "4   5      F   0.595     0.465   0.140         1.113          0.5175   \n",
       "\n",
       "   Viscra Weight  Shell Weight     Ratio  \n",
       "0         0.1780        0.1550  0.402765  \n",
       "1         0.1815        0.3600  0.297735  \n",
       "2         0.0190        0.0305  0.427835  \n",
       "3         0.2055        0.3300  0.412886  \n",
       "4         0.2440        0.3050  0.464960  "
      ]
     },
     "execution_count": 34,
     "metadata": {},
     "output_type": "execute_result"
    }
   ],
   "source": [
    "Ratio_train =  train_data['Shucked Weight']/train_data['Whole Weight'] \n",
    "Ratio_ques =  ques_data['Shucked Weight']/ques_data['Whole Weight'] \n",
    "train_data['Ratio'] = Ratio_train\n",
    "ques_data['Ratio'] = Ratio_ques\n",
    "print(train_data.head())\n",
    "ques_data.head()"
   ]
  },
  {
   "cell_type": "code",
   "execution_count": 35,
   "metadata": {},
   "outputs": [
    {
     "name": "stdout",
     "output_type": "stream",
     "text": [
      "(1247, 11) (2924, 10) (1247,)\n",
      "(1247, 11) (2924, 11) (1247,)\n"
     ]
    }
   ],
   "source": [
    "train_target = train_data['Target']\n",
    "print(train_data.shape,ques_data.shape,train_target.shape)\n",
    "train_data.drop(['id', 'Target'], axis=1,inplace=True)\n",
    "ques_data.drop(['id'], axis=1,inplace=True)\n",
    "train_data = pd.get_dummies(train_data)\n",
    "ques_data = pd.get_dummies(ques_data)\n",
    "\n",
    "print(train_data.shape,ques_data.shape,train_target.shape)"
   ]
  },
  {
   "cell_type": "code",
   "execution_count": 36,
   "metadata": {},
   "outputs": [],
   "source": [
    "train_max_input = train_data.to_numpy()\n",
    "train_max_target = train_target.to_numpy()\n",
    "ques_input = ques_data.to_numpy()"
   ]
  },
  {
   "cell_type": "code",
   "execution_count": 37,
   "metadata": {},
   "outputs": [],
   "source": [
    "#특성공학으로도 늘려보기"
   ]
  },
  {
   "cell_type": "code",
   "execution_count": 38,
   "metadata": {},
   "outputs": [],
   "source": [
    "from sklearn.preprocessing import StandardScaler\n",
    "ss = StandardScaler()\n",
    "ss.fit(train_max_input)\n",
    "train_max_scaled = ss.transform(train_max_input)\n",
    "ques_scaled =ss.transform(ques_input)"
   ]
  },
  {
   "cell_type": "code",
   "execution_count": 39,
   "metadata": {},
   "outputs": [],
   "source": [
    "from sklearn.model_selection import train_test_split\n",
    "train_scaled, test_scaled, train_target, test_target = train_test_split(train_max_scaled,train_max_target,test_size=0.2)"
   ]
  },
  {
   "cell_type": "code",
   "execution_count": 40,
   "metadata": {},
   "outputs": [
    {
     "name": "stdout",
     "output_type": "stream",
     "text": [
      "(1247, 11)\n",
      "(997, 11)\n",
      "(250, 11)\n"
     ]
    }
   ],
   "source": [
    "print(train_max_scaled.shape)\n",
    "print(train_scaled.shape)\n",
    "print(test_scaled.shape)"
   ]
  },
  {
   "cell_type": "code",
   "execution_count": 41,
   "metadata": {},
   "outputs": [
    {
     "name": "stdout",
     "output_type": "stream",
     "text": [
      "Model: \"sequential_1\"\n",
      "_________________________________________________________________\n",
      " Layer (type)                Output Shape              Param #   \n",
      "=================================================================\n",
      " dense_6 (Dense)             (None, 16)                192       \n",
      "                                                                 \n",
      " dense_7 (Dense)             (None, 32)                544       \n",
      "                                                                 \n",
      " dense_8 (Dense)             (None, 64)                2112      \n",
      "                                                                 \n",
      " dropout_1 (Dropout)         (None, 64)                0         \n",
      "                                                                 \n",
      " dense_9 (Dense)             (None, 32)                2080      \n",
      "                                                                 \n",
      " dense_10 (Dense)            (None, 16)                528       \n",
      "                                                                 \n",
      " dense_11 (Dense)            (None, 1)                 17        \n",
      "                                                                 \n",
      "=================================================================\n",
      "Total params: 5,473\n",
      "Trainable params: 5,473\n",
      "Non-trainable params: 0\n",
      "_________________________________________________________________\n"
     ]
    }
   ],
   "source": [
    "from tensorflow import keras\n",
    "model = keras.Sequential()\n",
    "model.add(keras.layers.Dense(16,activation='elu', input_dim=11))\n",
    "model.add(keras.layers.Dense(32,activation='elu'))\n",
    "model.add(keras.layers.Dense(64,activation='elu'))\n",
    "model.add(keras.layers.Dropout(0.35))\n",
    "model.add(keras.layers.Dense(32,activation='elu'))\n",
    "model.add(keras.layers.Dense(16,activation='elu'))\n",
    "model.add(keras.layers.Dense(1))\n",
    "model.summary()"
   ]
  },
  {
   "cell_type": "code",
   "execution_count": 42,
   "metadata": {},
   "outputs": [],
   "source": [
    "##loss: 'mean_absolute_error'\n",
    "##optimizer 따로 함수 만들어서 다른것도 만들어보기\n",
    "#nadam = keras.optimizers.Nadam(learning_rate=0.005, beta_1=0.9, beta_2=0.999, epsilon=1e-07)\n",
    "#model.compile(loss ='mean_absolute_error',optimizer = nadam)\n",
    "#checkpoint_cb = keras.callbacks.ModelCheckpoint('딥러닝_1(model)', save_best_only=True)\n",
    "#early_stopping_cb = keras.callbacks.EarlyStopping(patience=100,restore_best_weights=True)\n"
   ]
  },
  {
   "cell_type": "code",
   "execution_count": 43,
   "metadata": {},
   "outputs": [],
   "source": [
    "#history = model.fit(train_scaled,train_target,validation_split=0.2,epochs=1000,callbacks=[checkpoint_cb,early_stopping_cb])\n",
    "#print(early_stopping_cb.stopped_epoch)\n",
    "#\n",
    "#print(history.history['loss'][early_stopping_cb.stopped_epoch-100],history.history['val_loss'][early_stopping_cb.stopped_epoch-100])"
   ]
  },
  {
   "cell_type": "code",
   "execution_count": 44,
   "metadata": {},
   "outputs": [
    {
     "name": "stdout",
     "output_type": "stream",
     "text": [
      "INFO:tensorflow:Assets written to: 딥러닝_1(model)\\assets\n",
      "INFO:tensorflow:Assets written to: 딥러닝_1(model)\\assets\n",
      "INFO:tensorflow:Assets written to: 딥러닝_1(model)\\assets\n",
      "INFO:tensorflow:Assets written to: 딥러닝_1(model)\\assets\n",
      "INFO:tensorflow:Assets written to: 딥러닝_1(model)\\assets\n",
      "INFO:tensorflow:Assets written to: 딥러닝_1(model)\\assets\n",
      "INFO:tensorflow:Assets written to: 딥러닝_1(model)\\assets\n",
      "INFO:tensorflow:Assets written to: 딥러닝_1(model)\\assets\n",
      "INFO:tensorflow:Assets written to: 딥러닝_1(model)\\assets\n",
      "INFO:tensorflow:Assets written to: 딥러닝_1(model)\\assets\n",
      "INFO:tensorflow:Assets written to: 딥러닝_1(model)\\assets\n",
      "INFO:tensorflow:Assets written to: 딥러닝_1(model)\\assets\n",
      "INFO:tensorflow:Assets written to: 딥러닝_1(model)\\assets\n",
      "INFO:tensorflow:Assets written to: 딥러닝_1(model)\\assets\n",
      "INFO:tensorflow:Assets written to: 딥러닝_1(model)\\assets\n",
      "INFO:tensorflow:Assets written to: 딥러닝_1(model)\\assets\n",
      "INFO:tensorflow:Assets written to: 딥러닝_1(model)\\assets\n",
      "INFO:tensorflow:Assets written to: 딥러닝_1(model)\\assets\n",
      "INFO:tensorflow:Assets written to: 딥러닝_1(model)\\assets\n",
      "INFO:tensorflow:Assets written to: 딥러닝_1(model)\\assets\n",
      "INFO:tensorflow:Assets written to: 딥러닝_1(model)\\assets\n",
      "INFO:tensorflow:Assets written to: 딥러닝_1(model)\\assets\n",
      "INFO:tensorflow:Assets written to: 딥러닝_1(model)\\assets\n",
      "INFO:tensorflow:Assets written to: 딥러닝_1(model)\\assets\n",
      "INFO:tensorflow:Assets written to: 딥러닝_1(model)\\assets\n",
      "INFO:tensorflow:Assets written to: 딥러닝_1(model)\\assets\n",
      "INFO:tensorflow:Assets written to: 딥러닝_1(model)\\assets\n",
      "INFO:tensorflow:Assets written to: 딥러닝_1(model)\\assets\n",
      "INFO:tensorflow:Assets written to: 딥러닝_1(model)\\assets\n",
      "INFO:tensorflow:Assets written to: 딥러닝_1(model)\\assets\n",
      "INFO:tensorflow:Assets written to: 딥러닝_1(model)\\assets\n",
      "INFO:tensorflow:Assets written to: 딥러닝_1(model)\\assets\n",
      "INFO:tensorflow:Assets written to: 딥러닝_1(model)\\assets\n",
      "INFO:tensorflow:Assets written to: 딥러닝_1(model)\\assets\n",
      "INFO:tensorflow:Assets written to: 딥러닝_1(model)\\assets\n",
      "INFO:tensorflow:Assets written to: 딥러닝_1(model)\\assets\n",
      "INFO:tensorflow:Assets written to: 딥러닝_1(model)\\assets\n",
      "INFO:tensorflow:Assets written to: 딥러닝_1(model)\\assets\n",
      "INFO:tensorflow:Assets written to: 딥러닝_1(model)\\assets\n",
      "INFO:tensorflow:Assets written to: 딥러닝_1(model)\\assets\n",
      "INFO:tensorflow:Assets written to: 딥러닝_1(model)\\assets\n",
      "INFO:tensorflow:Assets written to: 딥러닝_1(model)\\assets\n",
      "INFO:tensorflow:Assets written to: 딥러닝_1(model)\\assets\n",
      "INFO:tensorflow:Assets written to: 딥러닝_1(model)\\assets\n",
      "INFO:tensorflow:Assets written to: 딥러닝_1(model)\\assets\n",
      "INFO:tensorflow:Assets written to: 딥러닝_1(model)\\assets\n",
      "INFO:tensorflow:Assets written to: 딥러닝_1(model)\\assets\n",
      "INFO:tensorflow:Assets written to: 딥러닝_1(model)\\assets\n",
      "INFO:tensorflow:Assets written to: 딥러닝_1(model)\\assets\n",
      "INFO:tensorflow:Assets written to: 딥러닝_1(model)\\assets\n",
      "INFO:tensorflow:Assets written to: 딥러닝_1(model)\\assets\n",
      "INFO:tensorflow:Assets written to: 딥러닝_1(model)\\assets\n",
      "INFO:tensorflow:Assets written to: 딥러닝_1(model)\\assets\n",
      "INFO:tensorflow:Assets written to: 딥러닝_1(model)\\assets\n",
      "INFO:tensorflow:Assets written to: 딥러닝_1(model)\\assets\n",
      "INFO:tensorflow:Assets written to: 딥러닝_1(model)\\assets\n",
      "INFO:tensorflow:Assets written to: 딥러닝_1(model)\\assets\n",
      "INFO:tensorflow:Assets written to: 딥러닝_1(model)\\assets\n",
      "INFO:tensorflow:Assets written to: 딥러닝_1(model)\\assets\n",
      "INFO:tensorflow:Assets written to: 딥러닝_1(model)\\assets\n",
      "INFO:tensorflow:Assets written to: 딥러닝_1(model)\\assets\n",
      "INFO:tensorflow:Assets written to: 딥러닝_1(model)\\assets\n",
      "INFO:tensorflow:Assets written to: 딥러닝_1(model)\\assets\n",
      "INFO:tensorflow:Assets written to: 딥러닝_1(model)\\assets\n",
      "INFO:tensorflow:Assets written to: 딥러닝_1(model)\\assets\n",
      "INFO:tensorflow:Assets written to: 딥러닝_1(model)\\assets\n",
      "INFO:tensorflow:Assets written to: 딥러닝_1(model)\\assets\n",
      "INFO:tensorflow:Assets written to: 딥러닝_1(model)\\assets\n",
      "INFO:tensorflow:Assets written to: 딥러닝_1(model)\\assets\n",
      "INFO:tensorflow:Assets written to: 딥러닝_1(model)\\assets\n",
      "INFO:tensorflow:Assets written to: 딥러닝_1(model)\\assets\n",
      "INFO:tensorflow:Assets written to: 딥러닝_1(model)\\assets\n",
      "INFO:tensorflow:Assets written to: 딥러닝_1(model)\\assets\n",
      "INFO:tensorflow:Assets written to: 딥러닝_1(model)\\assets\n",
      "INFO:tensorflow:Assets written to: 딥러닝_1(model)\\assets\n",
      "INFO:tensorflow:Assets written to: 딥러닝_1(model)\\assets\n",
      "INFO:tensorflow:Assets written to: 딥러닝_1(model)\\assets\n",
      "INFO:tensorflow:Assets written to: 딥러닝_1(model)\\assets\n",
      "INFO:tensorflow:Assets written to: 딥러닝_1(model)\\assets\n",
      "INFO:tensorflow:Assets written to: 딥러닝_1(model)\\assets\n",
      "INFO:tensorflow:Assets written to: 딥러닝_1(model)\\assets\n",
      "INFO:tensorflow:Assets written to: 딥러닝_1(model)\\assets\n",
      "INFO:tensorflow:Assets written to: 딥러닝_1(model)\\assets\n",
      "INFO:tensorflow:Assets written to: 딥러닝_1(model)\\assets\n",
      "INFO:tensorflow:Assets written to: 딥러닝_1(model)\\assets\n",
      "INFO:tensorflow:Assets written to: 딥러닝_1(model)\\assets\n",
      "INFO:tensorflow:Assets written to: 딥러닝_1(model)\\assets\n",
      "INFO:tensorflow:Assets written to: 딥러닝_1(model)\\assets\n",
      "INFO:tensorflow:Assets written to: 딥러닝_1(model)\\assets\n",
      "INFO:tensorflow:Assets written to: 딥러닝_1(model)\\assets\n",
      "INFO:tensorflow:Assets written to: 딥러닝_1(model)\\assets\n",
      "INFO:tensorflow:Assets written to: 딥러닝_1(model)\\assets\n",
      "INFO:tensorflow:Assets written to: 딥러닝_1(model)\\assets\n",
      "INFO:tensorflow:Assets written to: 딥러닝_1(model)\\assets\n",
      "INFO:tensorflow:Assets written to: 딥러닝_1(model)\\assets\n",
      "INFO:tensorflow:Assets written to: 딥러닝_1(model)\\assets\n",
      "INFO:tensorflow:Assets written to: 딥러닝_1(model)\\assets\n",
      "INFO:tensorflow:Assets written to: 딥러닝_1(model)\\assets\n",
      "INFO:tensorflow:Assets written to: 딥러닝_1(model)\\assets\n",
      "INFO:tensorflow:Assets written to: 딥러닝_1(model)\\assets\n",
      "INFO:tensorflow:Assets written to: 딥러닝_1(model)\\assets\n",
      "INFO:tensorflow:Assets written to: 딥러닝_1(model)\\assets\n",
      "INFO:tensorflow:Assets written to: 딥러닝_1(model)\\assets\n",
      "INFO:tensorflow:Assets written to: 딥러닝_1(model)\\assets\n",
      "INFO:tensorflow:Assets written to: 딥러닝_1(model)\\assets\n",
      "INFO:tensorflow:Assets written to: 딥러닝_1(model)\\assets\n",
      "INFO:tensorflow:Assets written to: 딥러닝_1(model)\\assets\n",
      "INFO:tensorflow:Assets written to: 딥러닝_1(model)\\assets\n",
      "INFO:tensorflow:Assets written to: 딥러닝_1(model)\\assets\n",
      "INFO:tensorflow:Assets written to: 딥러닝_1(model)\\assets\n",
      "INFO:tensorflow:Assets written to: 딥러닝_1(model)\\assets\n",
      "INFO:tensorflow:Assets written to: 딥러닝_1(model)\\assets\n",
      "INFO:tensorflow:Assets written to: 딥러닝_1(model)\\assets\n",
      "INFO:tensorflow:Assets written to: 딥러닝_1(model)\\assets\n",
      "INFO:tensorflow:Assets written to: 딥러닝_1(model)\\assets\n",
      "INFO:tensorflow:Assets written to: 딥러닝_1(model)\\assets\n",
      "INFO:tensorflow:Assets written to: 딥러닝_1(model)\\assets\n",
      "INFO:tensorflow:Assets written to: 딥러닝_1(model)\\assets\n",
      "INFO:tensorflow:Assets written to: 딥러닝_1(model)\\assets\n",
      "INFO:tensorflow:Assets written to: 딥러닝_1(model)\\assets\n",
      "INFO:tensorflow:Assets written to: 딥러닝_1(model)\\assets\n",
      "INFO:tensorflow:Assets written to: 딥러닝_1(model)\\assets\n",
      "INFO:tensorflow:Assets written to: 딥러닝_1(model)\\assets\n",
      "INFO:tensorflow:Assets written to: 딥러닝_1(model)\\assets\n",
      "INFO:tensorflow:Assets written to: 딥러닝_1(model)\\assets\n",
      "INFO:tensorflow:Assets written to: 딥러닝_1(model)\\assets\n",
      "INFO:tensorflow:Assets written to: 딥러닝_1(model)\\assets\n",
      "INFO:tensorflow:Assets written to: 딥러닝_1(model)\\assets\n",
      "INFO:tensorflow:Assets written to: 딥러닝_1(model)\\assets\n",
      "INFO:tensorflow:Assets written to: 딥러닝_1(model)\\assets\n",
      "INFO:tensorflow:Assets written to: 딥러닝_1(model)\\assets\n",
      "INFO:tensorflow:Assets written to: 딥러닝_1(model)\\assets\n",
      "INFO:tensorflow:Assets written to: 딥러닝_1(model)\\assets\n",
      "INFO:tensorflow:Assets written to: 딥러닝_1(model)\\assets\n",
      "INFO:tensorflow:Assets written to: 딥러닝_1(model)\\assets\n",
      "INFO:tensorflow:Assets written to: 딥러닝_1(model)\\assets\n",
      "INFO:tensorflow:Assets written to: 딥러닝_1(model)\\assets\n",
      "[1.4334548711776733]\n",
      "[1.4041675329208374]\n",
      "INFO:tensorflow:Assets written to: 딥러닝_1(model)\\assets\n",
      "INFO:tensorflow:Assets written to: 딥러닝_1(model)\\assets\n",
      "INFO:tensorflow:Assets written to: 딥러닝_1(model)\\assets\n",
      "INFO:tensorflow:Assets written to: 딥러닝_1(model)\\assets\n",
      "INFO:tensorflow:Assets written to: 딥러닝_1(model)\\assets\n",
      "INFO:tensorflow:Assets written to: 딥러닝_1(model)\\assets\n",
      "[1.4334548711776733, 1.4264150857925415]\n",
      "[1.4041675329208374, 1.3881340026855469]\n",
      "INFO:tensorflow:Assets written to: 딥러닝_1(model)\\assets\n",
      "INFO:tensorflow:Assets written to: 딥러닝_1(model)\\assets\n",
      "INFO:tensorflow:Assets written to: 딥러닝_1(model)\\assets\n",
      "INFO:tensorflow:Assets written to: 딥러닝_1(model)\\assets\n",
      "INFO:tensorflow:Assets written to: 딥러닝_1(model)\\assets\n",
      "[1.4334548711776733, 1.4264150857925415, 1.4099724292755127]\n",
      "[1.4041675329208374, 1.3881340026855469, 1.3928946256637573]\n",
      "INFO:tensorflow:Assets written to: 딥러닝_1(model)\\assets\n",
      "INFO:tensorflow:Assets written to: 딥러닝_1(model)\\assets\n",
      "INFO:tensorflow:Assets written to: 딥러닝_1(model)\\assets\n",
      "INFO:tensorflow:Assets written to: 딥러닝_1(model)\\assets\n",
      "INFO:tensorflow:Assets written to: 딥러닝_1(model)\\assets\n",
      "INFO:tensorflow:Assets written to: 딥러닝_1(model)\\assets\n",
      "INFO:tensorflow:Assets written to: 딥러닝_1(model)\\assets\n",
      "[1.4334548711776733, 1.4264150857925415, 1.4099724292755127, 1.4162695407867432]\n",
      "[1.4041675329208374, 1.3881340026855469, 1.3928946256637573, 1.4095633029937744]\n",
      "INFO:tensorflow:Assets written to: 딥러닝_1(model)\\assets\n",
      "INFO:tensorflow:Assets written to: 딥러닝_1(model)\\assets\n",
      "INFO:tensorflow:Assets written to: 딥러닝_1(model)\\assets\n",
      "INFO:tensorflow:Assets written to: 딥러닝_1(model)\\assets\n",
      "INFO:tensorflow:Assets written to: 딥러닝_1(model)\\assets\n",
      "INFO:tensorflow:Assets written to: 딥러닝_1(model)\\assets\n",
      "INFO:tensorflow:Assets written to: 딥러닝_1(model)\\assets\n",
      "[1.4334548711776733, 1.4264150857925415, 1.4099724292755127, 1.4162695407867432, 1.4300003051757812]\n",
      "[1.4041675329208374, 1.3881340026855469, 1.3928946256637573, 1.4095633029937744, 1.407618522644043]\n",
      "INFO:tensorflow:Assets written to: 딥러닝_1(model)\\assets\n",
      "INFO:tensorflow:Assets written to: 딥러닝_1(model)\\assets\n",
      "INFO:tensorflow:Assets written to: 딥러닝_1(model)\\assets\n",
      "INFO:tensorflow:Assets written to: 딥러닝_1(model)\\assets\n",
      "INFO:tensorflow:Assets written to: 딥러닝_1(model)\\assets\n",
      "INFO:tensorflow:Assets written to: 딥러닝_1(model)\\assets\n",
      "INFO:tensorflow:Assets written to: 딥러닝_1(model)\\assets\n",
      "INFO:tensorflow:Assets written to: 딥러닝_1(model)\\assets\n",
      "[1.4334548711776733, 1.4264150857925415, 1.4099724292755127, 1.4162695407867432, 1.4300003051757812, 1.6324716806411743]\n",
      "[1.4041675329208374, 1.3881340026855469, 1.3928946256637573, 1.4095633029937744, 1.407618522644043, 1.4772247076034546]\n",
      "INFO:tensorflow:Assets written to: 딥러닝_1(model)\\assets\n",
      "[1.4334548711776733, 1.4264150857925415, 1.4099724292755127, 1.4162695407867432, 1.4300003051757812, 1.6324716806411743, 2.7804388999938965]\n",
      "[1.4041675329208374, 1.3881340026855469, 1.3928946256637573, 1.4095633029937744, 1.407618522644043, 1.4772247076034546, 2.1163995265960693]\n",
      "[1.4334548711776733, 1.4264150857925415, 1.4099724292755127, 1.4162695407867432, 1.4300003051757812, 1.6324716806411743, 2.7804388999938965]\n",
      "[1.4041675329208374, 1.3881340026855469, 1.3928946256637573, 1.4095633029937744, 1.407618522644043, 1.4772247076034546, 2.1163995265960693]\n"
     ]
    }
   ],
   "source": [
    "Tloss =[]\n",
    "Vloss=[]\n",
    "for i in [0.0001, 0.0005, 0.001, 0.005, 0.01, 0.05, 0.1]:\n",
    "    nadam = keras.optimizers.Nadam(learning_rate=i, beta_1=0.9, beta_2=0.999, epsilon=1e-07)\n",
    "    model.compile(loss ='mean_absolute_error',optimizer = nadam)\n",
    "    checkpoint_cb = keras.callbacks.ModelCheckpoint('딥러닝_1(model)', save_best_only=True)\n",
    "    early_stopping_cb = keras.callbacks.EarlyStopping(patience=100,restore_best_weights=True)\n",
    "    history = model.fit(train_scaled,train_target,validation_split=0.2,epochs=1000,callbacks=[checkpoint_cb,early_stopping_cb],verbose=0)\n",
    "    #print(i, early_stopping_cb.stopped_epoch)\n",
    "    #print(history.history['loss'][early_stopping_cb.stopped_epoch-100],history.history['val_loss'][early_stopping_cb.stopped_epoch-100])\n",
    "    #print(\"ㅡㅡㅡㅡㅡㅡㅡㅡㅡㅡㅡㅡㅡㅡㅡㅡㅡㅡㅡㅡㅡㅡㅡㅡㅡㅡㅡㅡㅡㅡㅡㅡㅡㅡㅡㅡㅡㅡㅡㅡㅡㅡㅡㅡㅡㅡㅡㅡㅡㅡㅡ\")\n",
    "    Tloss.append(history.history['loss'][early_stopping_cb.stopped_epoch-100])\n",
    "    Vloss.append(history.history['val_loss'][early_stopping_cb.stopped_epoch-100])\n",
    "    print(Tloss)\n",
    "    print(Vloss)\n",
    "print(Tloss)\n",
    "print(Vloss)\n"
   ]
  },
  {
   "cell_type": "code",
   "execution_count": 45,
   "metadata": {},
   "outputs": [],
   "source": [
    "#[1.4600863456726074, 1.4148648977279663, 1.3546310663223267, 1.409367561340332, 1.4308050870895386, 1.8517320156097412, 2.1149449348449707]\n",
    "#[1.4666786193847656, 1.4535043239593506, 1.4496450424194336, 1.4520829916000366, 1.456810474395752, 1.6800751686096191, 1.895699143409729]\n",
    "\n",
    "#[1.408519983291626, 1.3495877981185913, 1.3416342735290527, 1.3801909685134888, 1.3952325582504272, 1.7139472961425781, 2.3904550075531006]\n",
    "#[1.4371708631515503, 1.4092724323272705, 1.3918246030807495, 1.3974816799163818, 1.4379794597625732, 1.5726962089538574, 2.2705795764923096]\n",
    "\n",
    "#조절\n",
    "\n",
    "#[1.3865793943405151, 1.3409525156021118, 1.3390586376190186, 1.3946274518966675, 1.4808623790740967, 1.605684757232666, 2.0091190338134766]\n",
    "#[1.4787187576293945, 1.4454946517944336, 1.4507060050964355, 1.429193139076233, 1.4541733264923096, 1.4645981788635254, 1.978052020072937]\n",
    "\n",
    "#[1.4529577493667603, 1.4110784530639648, 1.420938491821289, 1.4189287424087524, 1.4431909322738647, 1.7848201990127563, 2.0536625385284424]\n",
    "#[1.6292908191680908, 1.6169853210449219, 1.6091166734695435, 1.5925902128219604, 1.5872585773468018, 1.760848879814148, 1.8432377576828003]\n",
    "\n",
    "#[1.4341628551483154, 1.4176089763641357, 1.3556270599365234, 1.4250555038452148, 1.3743952512741089, 1.5431389808654785, 2.1409754753112793]\n",
    "#[1.6323415040969849, 1.6178491115570068, 1.5975258350372314, 1.5876777172088623, 1.5893243551254272, 1.636724829673767, 2.062161684036255]\n",
    "\n",
    "#[1.420170545578003, 1.4337217807769775, 1.4331305027008057, 1.423508882522583, 1.4331269264221191, 1.7302302122116089, 2.1392548084259033]\n",
    "#[1.5625027418136597, 1.5440466403961182, 1.5366942882537842, 1.530248999595642, 1.5732096433639526, 1.7697349786758423, 1.9518115520477295]\n",
    "\n",
    "#[1.431894302368164, 1.411698341369629, 1.3856260776519775, 1.4766654968261719, 1.472758412361145, 1.8509738445281982, 1.9101853370666504]\n",
    "#[1.5972070693969727, 1.5727273225784302, 1.5610606670379639, 1.549170970916748, 1.5931892395019531, 1.7297505140304565, 2.0152974128723145]\n",
    "\n",
    "#다시 돌아옴\n",
    "\n",
    "#[1.4334548711776733, 1.4264150857925415, 1.4099724292755127, 1.4162695407867432, 1.4300003051757812, 1.6324716806411743, 2.7804388999938965]\n",
    "#[1.4041675329208374, 1.3881340026855469, 1.3928946256637573, 1.4095633029937744, 1.407618522644043, 1.4772247076034546, 2.1163995265960693]"
   ]
  },
  {
   "cell_type": "code",
   "execution_count": 46,
   "metadata": {},
   "outputs": [
    {
     "data": {
      "image/png": "[encoded data removed]",
      "text/plain": [
       "<Figure size 432x288 with 1 Axes>"
      ]
     },
     "metadata": {
      "needs_background": "light"
     },
     "output_type": "display_data"
    }
   ],
   "source": [
    "import matplotlib.pyplot as plt\n",
    "plt.plot(history.history['loss'])\n",
    "plt.plot(history.history['val_loss'])\n",
    "plt.xlabel('epoch')\n",
    "plt.ylabel('loss')\n",
    "plt.ylim(0,3)\n",
    "plt.legend(['train','val'])\n",
    "plt.show()\n"
   ]
  },
  {
   "cell_type": "code",
   "execution_count": 47,
   "metadata": {},
   "outputs": [
    {
     "name": "stdout",
     "output_type": "stream",
     "text": [
      "<class 'numpy.ndarray'>\n",
      "(2924, 1)\n",
      "[[10.77976 ]\n",
      " [10.991627]\n",
      " [ 8.654543]\n",
      " [10.874971]\n",
      " [ 9.387098]\n",
      " [10.156012]\n",
      " [10.198027]\n",
      " [ 8.654543]\n",
      " [10.60446 ]\n",
      " [ 8.654543]]\n"
     ]
    }
   ],
   "source": [
    "ans = model.predict(ques_scaled)\n",
    "print(type(ans))\n",
    "print(ans.shape)\n",
    "print(ans[:10])"
   ]
  },
  {
   "cell_type": "code",
   "execution_count": 48,
   "metadata": {},
   "outputs": [],
   "source": [
    "#submission = pd.read_csv(\"E:\\데이콘\\전복나이 예측\\데이터\\sample_submission.csv\")\n",
    "#submission['Target'] = ans\n",
    "#submission.to_csv(\"Submit_11(딥러닝3_mae).csv\",index=False)"
   ]
  }
 ],
 "metadata": {
  "interpreter": {
   "hash": "0acc62e3991d0f967e612eec664f4e3cdc0de12aaa299698365d7f9a254e36c2"
  },
  "kernelspec": {
   "display_name": "Python 3.10.2 64-bit (system)",
   "language": "python",
   "name": "python3"
  },
  "language_info": {
   "codemirror_mode": {
    "name": "ipython",
    "version": 3
   },
   "file_extension": ".py",
   "mimetype": "text/x-python",
   "name": "python",
   "nbconvert_exporter": "python",
   "pygments_lexer": "ipython3",
   "version": "3.10.2"
  },
  "orig_nbformat": 4
 },
 "nbformat": 4,
 "nbformat_minor": 2
}
